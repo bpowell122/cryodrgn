{
 "cells": [
  {
   "cell_type": "markdown",
   "metadata": {
    "pycharm": {
     "name": "#%% md\n"
    }
   },
   "source": [
    "# tomoDRGN interactive visualization and filtering\n",
    "\n",
    "### Filtering functionality\n",
    "This jupyter notebook provides multiple methods for filtering particles based on the latent space, including:\n",
    "* clustering of the latent space (k-means or Gaussian mixture model)\n",
    "* outlier detection (Z-score)\n",
    "* interactive selection with a lasso tool\n",
    "\n",
    "For each method, the selected particles are tracked in the variable, `ind_selected`. Once the selection has been finalized, the selected particles are saved as a `ind_keep.pkl` file at the end of this notebook. The selected indices can be provided to tomoDRGN with the `--ind` argument to train a new model on a subset of the images or used to filter the original input `.star` file for further processing wtih external tools. \n",
    "\n",
    "Note that indices in `ind_selected` and `ind_keep.pkl` are 0-indexed, are per-particle (not per tilt image), and are numbered sequentially by unique values present in the `_rlnGroupName` column of the original input `.star` file.\n",
    "\n",
    "### Visualization functionality\n",
    "Several static plots are generated in this notebook, including summaries of the input data (pose distribution) and of the training data (PCA, UMAP, and loss curve). \n",
    "Additional interactive plots are also created, with the primary intention of aiding users to uncover correlations and interesting particle subsets for further analyses and hypothesis generation:\n",
    "* interactive 2D scatter plot per-particle \n",
    "    * axes and colormaps selectable from all columns from input star file + all training outputs (latent z, UMAP, and filtering tools described above) + optional tomogram XYZ positions from a separate star file + user-defined additions to `df_merged`\n",
    "* interactive 3D quiver plot per-particle in the source tomogram spatial context\n",
    "    * axes defined by particle XYZ coordinates in each source tomogram\n",
    "    * optional overlay of tomogram voxel data in voxel or z-slice view\n",
    "    * particle colormaps and sub-selection tools from all columns from input star file + all training outputs (latent z, UMAP, and filtering tools described above) + optional tomogram XYZ positions from a separate star file + user-defined additions to `df_merged`\n",
    "    \n",
    "### Requirements\n",
    "For full functionality, the following files are required. Additionally, locations marked by `USER_INPUT` (below) require the user to specify certain properties about these files:\n",
    "* tomoDRGN train_vae training input (`particles_imageseries.star`)\n",
    "* tomoDRGN train_vae training outputs (`z.pkl`, `config.pkl`, `run.log`)\n",
    "* tomoDRGN analyze outputs (`umap.pkl`, `labels.pkl`, `centers.txt`)\n",
    "* reconstructed tomograms, preferably denoised or deconvolved (`*.mrc`)\n",
    "* a star file from Warp or M's \"export subtomograms as volumes\" tomography task dialog (`particles_volumeseries.star`)\n",
    "* M starfile from the final round of traditional STA alignment (.star)\n",
    "* reconstructed tomograms (.mrc)"
   ]
  },
  {
   "cell_type": "code",
   "execution_count": null,
   "metadata": {
    "pycharm": {
     "name": "#%%\n"
    }
   },
   "outputs": [],
   "source": [
    "import pandas as pd\n",
    "import numpy as np\n",
    "import pickle\n",
    "import subprocess\n",
    "import os, sys\n",
    "\n",
    "from tomodrgn import analysis\n",
    "from tomodrgn import utils\n",
    "from tomodrgn import dataset\n",
    "from tomodrgn import ctf\n",
    "from tomodrgn import starfile\n",
    "                \n",
    "import matplotlib.pyplot as plt\n",
    "import seaborn as sns\n",
    "import plotly.graph_objs as go\n",
    "import plotly.offline as py\n",
    "from ipywidgets import interact, interactive, HBox, VBox\n",
    "from scipy.spatial.transform import Rotation as RR\n",
    "py.init_notebook_mode()\n",
    "from IPython.display import FileLink, FileLinks"
   ]
  },
  {
   "cell_type": "code",
   "execution_count": null,
   "metadata": {
    "pycharm": {
     "name": "#%%\n"
    }
   },
   "outputs": [],
   "source": [
    "# Enable interactive widgets\n",
    "!jupyter nbextension enable --py widgetsnbextension"
   ]
  },
  {
   "cell_type": "markdown",
   "metadata": {
    "pycharm": {
     "name": "#%% md\n"
    }
   },
   "source": [
    "### Load training results"
   ]
  },
  {
   "cell_type": "code",
   "execution_count": null,
   "metadata": {
    "pycharm": {
     "name": "#%%\n"
    }
   },
   "outputs": [],
   "source": [
    "# Specify the workdir and the epoch number (0-based index) to analyze\n",
    "WORKDIR = '..' \n",
    "EPOCH = 49 # USER INPUT"
   ]
  },
  {
   "cell_type": "code",
   "execution_count": null,
   "metadata": {
    "pycharm": {
     "name": "#%%\n"
    }
   },
   "outputs": [],
   "source": [
    "print(os.path.abspath(WORKDIR))"
   ]
  },
  {
   "cell_type": "code",
   "execution_count": null,
   "metadata": {
    "pycharm": {
     "name": "#%%\n"
    }
   },
   "outputs": [],
   "source": [
    "# Load z\n",
    "with open(f'{WORKDIR}/z.{EPOCH}.pkl','rb') as f:\n",
    "    z = pickle.load(f)\n",
    "    z_logvar = pickle.load(f)"
   ]
  },
  {
   "cell_type": "code",
   "execution_count": null,
   "metadata": {
    "pycharm": {
     "name": "#%%\n"
    }
   },
   "outputs": [],
   "source": [
    "# Load UMAP\n",
    "umap = utils.load_pkl(f'{WORKDIR}/analyze.{EPOCH}/umap.pkl')\n",
    "# or run UMAP\n",
    "# umap = analysis.run_umap(z)"
   ]
  },
  {
   "cell_type": "code",
   "execution_count": null,
   "metadata": {
    "pycharm": {
     "name": "#%%\n"
    }
   },
   "outputs": [],
   "source": [
    "# Load kmeans\n",
    "K = 4\n",
    "kmeans_labels = utils.load_pkl(f'{WORKDIR}/analyze.{EPOCH}/kmeans{K}/labels.pkl')\n",
    "kmeans_centers = np.loadtxt(f'{WORKDIR}/analyze.{EPOCH}/kmeans{K}/centers.txt')\n",
    "# Or re-run kmeans with the desired number of classes\n",
    "#kmeans_labels, kmeans_centers = analysis.cluster_kmeans(z, 20)\n",
    "\n",
    "# Get index for on-data cluster center\n",
    "kmeans_centers, centers_ind = analysis.get_nearest_point(z, kmeans_centers)"
   ]
  },
  {
   "cell_type": "markdown",
   "metadata": {
    "pycharm": {
     "name": "#%% md\n"
    }
   },
   "source": [
    "### Load input dataset"
   ]
  },
  {
   "cell_type": "code",
   "execution_count": null,
   "metadata": {
    "scrolled": true,
    "pycharm": {
     "name": "#%%\n"
    }
   },
   "outputs": [],
   "source": [
    "# Load configuration file\n",
    "config = utils.load_pkl(f'{WORKDIR}/config.pkl')\n",
    "print(config)"
   ]
  },
  {
   "cell_type": "code",
   "execution_count": null,
   "metadata": {
    "pycharm": {
     "name": "#%%\n"
    }
   },
   "outputs": [],
   "source": [
    "# Load particles starfile\n",
    "ptcls_star = starfile.TiltSeriesStarfile.load(config['dataset_args']['particles'])"
   ]
  },
  {
   "cell_type": "code",
   "execution_count": null,
   "metadata": {
    "pycharm": {
     "name": "#%%\n"
    }
   },
   "outputs": [],
   "source": [
    "# Define useful variables\n",
    "ptcls_unique_list = ptcls_star.df['_rlnGroupName'].unique().astype(str)\n",
    "\n",
    "df_grouped = ptcls_star.df.groupby('_rlnGroupName')\n",
    "ind_imgs = np.array([df_grouped.get_group(ptcl).index for ptcl in df_grouped.groups],\n",
    "                    dtype=object)\n",
    "ind_ptcls = np.arange(len(ptcls_unique_list))\n",
    "\n",
    "n_ptcls = len(ptcls_unique_list)\n",
    "n_imgs = len(ptcls_star.df)\n",
    "\n",
    "# Create per-particle dataframe sampling only first image of each particle\n",
    "df_ptcls = ptcls_star.df.iloc[ind_imgs[:,0].astype(int), :].reset_index(drop=True)"
   ]
  },
  {
   "cell_type": "code",
   "execution_count": null,
   "metadata": {
    "scrolled": true,
    "pycharm": {
     "name": "#%%\n"
    }
   },
   "outputs": [],
   "source": [
    "# Load ptcl index filter and apply to dataframes\n",
    "ind_ptcls_pkl = config['dataset_args']['ind']\n",
    "if ind_ptcls_pkl is not None:\n",
    "    ind_ptcls = np.array(utils.load_pkl(ind_ptcls_pkl))\n",
    "    print(f'Filtering particles from {n_ptcls} to {len(ind_ptcls)}')\n",
    "\n",
    "    ind_imgs = ind_imgs[ind_ptcls]\n",
    "    ptcls_unique_list = ptcls_unique_list[ind_ptcls]\n",
    "    ptcls_star.df = ptcls_star.df.iloc[ind_imgs.flatten()]\n",
    "    df_ptcls = df_ptcls.iloc[ind_ptcls]\n",
    "    \n",
    "    n_ptcls = len(ind_ptcls)\n",
    "    n_imgs = len(ind_imgs)\n",
    "\n",
    "else:\n",
    "    ind_ptcl = None\n",
    "    ind_img = None\n",
    "    print('No indices found in config.pkl; not filtering star file')"
   ]
  },
  {
   "cell_type": "code",
   "execution_count": null,
   "metadata": {
    "pycharm": {
     "name": "#%%\n"
    }
   },
   "outputs": [],
   "source": [
    "# Load poses (from pre-filtered dataframe)\n",
    "rots_columns = ['_rlnAngleRot', '_rlnAngleTilt', '_rlnAnglePsi']\n",
    "euler = ptcls_star.df[rots_columns].to_numpy(dtype=np.float32)\n",
    "\n",
    "trans_columns = ['rlnOriginX', '_rlnOriginY']\n",
    "if np.all([trans_column in ptcls_star.headers for trans_column in trans_columns]):\n",
    "    trans = ptcls_star.df[trans_columns].to_numpy(dtype=np.float32)\n",
    "else: trans = np.zeros((n_imgs, 2))"
   ]
  },
  {
   "cell_type": "code",
   "execution_count": null,
   "metadata": {
    "pycharm": {
     "name": "#%%\n"
    }
   },
   "outputs": [],
   "source": [
    "# Load CTF (from pre-filtered dataframe)\n",
    "ctf_columns = ['_rlnDetectorPixelSize','_rlnDefocusU', '_rlnDefocusV', '_rlnDefocusAngle', '_rlnVoltage', '_rlnSphericalAberration',\n",
    "         '_rlnAmplitudeContrast', '_rlnPhaseShift']\n",
    "if np.all([ctf_column in ptcls_star.headers for ctf_column in ctf_columns]):\n",
    "    box_size = config['lattice_args']['D'] - 1\n",
    "    ctf_params = ptcls_star.df[ctf_columns].to_numpy(dtype=np.float32)\n",
    "    box_size = np.ones((ctf_params.shape[0],1)) * box_size\n",
    "    ctf_params = np.concatenate((box_size, ctf_params), 1)\n",
    "else:\n",
    "    ctf_params = np.zeros((n_imgs, 9))\n",
    "\n",
    "ctf.print_ctf_params(ctf_params[0])"
   ]
  },
  {
   "cell_type": "code",
   "execution_count": null,
   "metadata": {
    "pycharm": {
     "name": "#%%\n"
    }
   },
   "outputs": [],
   "source": [
    "# Optionally load a RELION3.0 volumeseries star file from Warp/M (to get particle positions within tomograms)\n",
    "# Starfile must reference the same set of particles referenced by the starfile used for tomodrgn train_vae\n",
    "\n",
    "### USER INPUT REQUIRED\n",
    "path_to_volseries_star = ''        # absolute path to volume series star file\n",
    "star_from_M = True                 # True if star file from M; False if star file from Warp subtomogram volumeseries\n",
    "tomo_max_xyz_nm = (680, 680, 510)  # dimensions in nm of reconstructed tomograms for later interactive visualization\n",
    "tomo_pixelsize = 10                # pixel size of reconstructed tomogram in A/px\n",
    "starfile_pixelsize = 1             # pixel size in volumeseries star file, CoordinateX,Y columns, in A/px\n",
    "\n",
    "# load and filter star file\n",
    "volseries_star = starfile.GenericStarfile(path_to_volseries_star)\n",
    "volseries_df = volseries_star.blocks['data_']\n",
    "if ind_ptcl is not None:\n",
    "    volseries_df = volseries_df[volseries_df.index.isin(ind_ptcl)]\n",
    "\n",
    "# Assign unique, sequential ID numbers to each tomogram for later visualization\n",
    "if star_from_M: tomo_id_col = '_wrpSourceName'\n",
    "else: tomo_id_col = '_rlnMicrographName'\n",
    "ind_tomo = {tomo_name : tomo_index for tomo_index, tomo_name in enumerate(volseries_df[tomo_id_col].unique())}\n",
    "volseries_df['ind_tomo'] = [ind_tomo[row] for row in volseries_df[unique_tomo_col]]\n",
    "\n",
    "# rescale df xyz coordinates to match reconstructed tomograms pixel size\n",
    "volseries_df = analysis.rescale_df_coordinates(volseries_df, \n",
    "                                               tomo_max_xyz_nm=tomo_max_xyz_nm, \n",
    "                                               tomo_pixelsize=tomo_pixelsize, \n",
    "                                               starfile_pixelsize=starfile_pixelsize)\n",
    "volseries_df"
   ]
  },
  {
   "cell_type": "markdown",
   "metadata": {
    "tags": [],
    "pycharm": {
     "name": "#%% md\n"
    }
   },
   "source": [
    "### Define helper functions"
   ]
  },
  {
   "cell_type": "code",
   "execution_count": null,
   "metadata": {
    "pycharm": {
     "name": "#%%\n"
    }
   },
   "outputs": [],
   "source": [
    "def list_paths_by_extension(basedir, extension):\n",
    "    file_list = [os.path.join(basedir, file) for file in os.listdir(basedir) if file.endswith(extension)]\n",
    "    return sorted(file_list)"
   ]
  },
  {
   "cell_type": "code",
   "execution_count": null,
   "metadata": {
    "pycharm": {
     "name": "#%%\n"
    }
   },
   "outputs": [],
   "source": [
    "def invert_selection(all_labels, ind_selected):\n",
    "    return np.array(sorted(set(np.arange(len(all_labels))) - set(ind_selected)))"
   ]
  },
  {
   "cell_type": "code",
   "execution_count": null,
   "metadata": {
    "pycharm": {
     "name": "#%%\n"
    }
   },
   "outputs": [],
   "source": [
    "def combine_selection(ind_sel1, ind_sel2, kind='union'):\n",
    "    assert kind in ('union','intersection')\n",
    "    return analysis.combine_ind(len(z), ind_sel1, ind_sel2, kind)"
   ]
  },
  {
   "cell_type": "code",
   "execution_count": null,
   "metadata": {
    "pycharm": {
     "name": "#%%\n"
    }
   },
   "outputs": [],
   "source": [
    "def select_clusters(labels, cluster_ids):\n",
    "    return analysis.get_ind_for_cluster(labels, cluster_ids)"
   ]
  },
  {
   "cell_type": "markdown",
   "metadata": {
    "tags": [],
    "pycharm": {
     "name": "#%% md\n"
    }
   },
   "source": [
    "# Plot dataset / model properties"
   ]
  },
  {
   "cell_type": "markdown",
   "metadata": {
    "tags": [],
    "pycharm": {
     "name": "#%% md\n"
    }
   },
   "source": [
    "### View pose distribution"
   ]
  },
  {
   "cell_type": "code",
   "execution_count": null,
   "metadata": {
    "pycharm": {
     "name": "#%%\n"
    }
   },
   "outputs": [],
   "source": [
    "# rotations\n",
    "analysis.plot_euler(euler[:,0],euler[:,1], euler[:,2])"
   ]
  },
  {
   "cell_type": "code",
   "execution_count": null,
   "metadata": {
    "pycharm": {
     "name": "#%%\n"
    }
   },
   "outputs": [],
   "source": [
    "# translations\n",
    "# set near-zero translations to 0.0 to allow sns.jointplot to work\n",
    "trans[np.isclose(trans, 0.0, atol=1e-4)] = 0.0\n",
    "sns.jointplot(x=trans[:,0],\n",
    "              y=trans[:,1],\n",
    "              kind='hex').set_axis_labels('tx (px)','ty (px)')"
   ]
  },
  {
   "cell_type": "markdown",
   "metadata": {
    "tags": [],
    "pycharm": {
     "name": "#%% md\n"
    }
   },
   "source": [
    "### Learning curve"
   ]
  },
  {
   "cell_type": "code",
   "execution_count": null,
   "metadata": {
    "pycharm": {
     "name": "#%%\n"
    }
   },
   "outputs": [],
   "source": [
    "loss = analysis.parse_loss(f'{WORKDIR}/run.log')\n",
    "plt.plot(loss)\n",
    "plt.xlabel('epoch')\n",
    "plt.ylabel('loss')"
   ]
  },
  {
   "cell_type": "markdown",
   "metadata": {
    "tags": [],
    "pycharm": {
     "name": "#%% md\n"
    }
   },
   "source": [
    "### PCA"
   ]
  },
  {
   "cell_type": "code",
   "execution_count": null,
   "metadata": {
    "pycharm": {
     "name": "#%%\n"
    }
   },
   "outputs": [],
   "source": [
    "pc, pca = analysis.run_pca(z)"
   ]
  },
  {
   "cell_type": "code",
   "execution_count": null,
   "metadata": {
    "pycharm": {
     "name": "#%%\n"
    }
   },
   "outputs": [],
   "source": [
    "g = sns.jointplot(x=pc[:,0], y=pc[:,1], alpha=.1, s=1)\n",
    "g.set_axis_labels('PC1', 'PC2')"
   ]
  },
  {
   "cell_type": "code",
   "execution_count": null,
   "metadata": {
    "pycharm": {
     "name": "#%%\n"
    }
   },
   "outputs": [],
   "source": [
    "g = sns.jointplot(x=pc[:,0], y=pc[:,1], kind='hex')\n",
    "g.set_axis_labels('PC1', 'PC2')"
   ]
  },
  {
   "cell_type": "code",
   "execution_count": null,
   "metadata": {
    "pycharm": {
     "name": "#%%\n"
    }
   },
   "outputs": [],
   "source": [
    "plt.bar(np.arange(z.shape[1])+1,pca.explained_variance_ratio_)\n",
    "plt.xticks(np.arange(z.shape[1])+1)\n",
    "plt.xlabel('PC')\n",
    "plt.ylabel('explained variance')"
   ]
  },
  {
   "cell_type": "markdown",
   "metadata": {
    "tags": [],
    "pycharm": {
     "name": "#%% md\n"
    }
   },
   "source": [
    "### UMAP"
   ]
  },
  {
   "cell_type": "code",
   "execution_count": null,
   "metadata": {
    "pycharm": {
     "name": "#%%\n"
    }
   },
   "outputs": [],
   "source": [
    "g = sns.jointplot(x=umap[:,0], y=umap[:,1], alpha=.1, s=1)\n",
    "g.set_axis_labels('UMAP1', 'UMAP2')"
   ]
  },
  {
   "cell_type": "code",
   "execution_count": null,
   "metadata": {
    "pycharm": {
     "name": "#%%\n"
    }
   },
   "outputs": [],
   "source": [
    "g = sns.jointplot(x=umap[:,0], y=umap[:,1], kind='hex')\n",
    "g.set_axis_labels('UMAP1', 'UMAP2')"
   ]
  },
  {
   "cell_type": "markdown",
   "metadata": {
    "tags": [],
    "pycharm": {
     "name": "#%% md\n"
    }
   },
   "source": [
    "# Filter by clustering\n",
    "\n",
    "Select particles based on k-means cluster labels or GMM cluster labels"
   ]
  },
  {
   "cell_type": "markdown",
   "metadata": {
    "tags": [],
    "pycharm": {
     "name": "#%% md\n"
    }
   },
   "source": [
    "### View K-means clusters"
   ]
  },
  {
   "cell_type": "code",
   "execution_count": null,
   "metadata": {
    "pycharm": {
     "name": "#%%\n"
    }
   },
   "outputs": [],
   "source": [
    "# Optionally, re-run kmeans with the desired number of classes\n",
    "#K = 20\n",
    "#kmeans_labels, kmeans_centers = analysis.cluster_kmeans(z, K)"
   ]
  },
  {
   "cell_type": "code",
   "execution_count": null,
   "metadata": {
    "pycharm": {
     "name": "#%%\n"
    }
   },
   "outputs": [],
   "source": [
    "K = len(set(kmeans_labels))\n",
    "c = pca.transform(kmeans_centers) # transform to view with PCs\n",
    "analysis.plot_by_cluster(pc[:,0], pc[:,1], K, \n",
    "                         kmeans_labels, \n",
    "                         centers=c,\n",
    "                         annotate=True)\n",
    "plt.xlabel('PC1')\n",
    "plt.ylabel('PC2')"
   ]
  },
  {
   "cell_type": "code",
   "execution_count": null,
   "metadata": {
    "pycharm": {
     "name": "#%%\n"
    }
   },
   "outputs": [],
   "source": [
    "fig, ax = analysis.plot_by_cluster_subplot(pc[:,0], pc[:,1], K, \n",
    "                            kmeans_labels)"
   ]
  },
  {
   "cell_type": "code",
   "execution_count": null,
   "metadata": {
    "pycharm": {
     "name": "#%%\n"
    }
   },
   "outputs": [],
   "source": [
    "analysis.plot_by_cluster(umap[:,0], umap[:,1], K, \n",
    "                         kmeans_labels, \n",
    "                         centers_ind=centers_ind,\n",
    "                         annotate=True)\n",
    "plt.xlabel('UMAP1')\n",
    "plt.ylabel('UMAP2')"
   ]
  },
  {
   "cell_type": "code",
   "execution_count": null,
   "metadata": {
    "pycharm": {
     "name": "#%%\n"
    }
   },
   "outputs": [],
   "source": [
    "fig, ax = analysis.plot_by_cluster_subplot(umap[:,0], umap[:,1], K, \n",
    "                            kmeans_labels)"
   ]
  },
  {
   "cell_type": "markdown",
   "metadata": {
    "pycharm": {
     "name": "#%% md\n"
    }
   },
   "source": [
    "**Select particles based on k-means clustering**"
   ]
  },
  {
   "cell_type": "code",
   "execution_count": null,
   "metadata": {
    "pycharm": {
     "name": "#%%\n"
    }
   },
   "outputs": [],
   "source": [
    "cluster_ids = [0,2] # USER INPUT REQUIRED: integer I.D. of clusters to select, 0 and 2 in this example\n",
    "ind_selected = select_clusters(kmeans_labels, cluster_ids)\n",
    "ind_selected_not = invert_selection(kmeans_labels, ind_selected)\n",
    "print('Selected indices:')\n",
    "print(ind_selected)\n",
    "print('Number of selected points:')\n",
    "print(len(ind_selected))\n",
    "print('Number of unselected points:')\n",
    "print(len(ind_selected_not))"
   ]
  },
  {
   "cell_type": "code",
   "execution_count": null,
   "metadata": {
    "pycharm": {
     "name": "#%%\n"
    }
   },
   "outputs": [],
   "source": [
    "# View PCA\n",
    "plt.scatter(pc[:,0], pc[:,1], alpha=.1, s=1)\n",
    "plt.scatter(pc[ind_selected,0], pc[ind_selected,1], alpha=.1, s=1)\n",
    "plt.xlabel('PC1 ({:.2f})'.format(pca.explained_variance_ratio_[0]))\n",
    "plt.ylabel('PC2 ({:.2f})'.format(pca.explained_variance_ratio_[1]))"
   ]
  },
  {
   "cell_type": "code",
   "execution_count": null,
   "metadata": {
    "pycharm": {
     "name": "#%%\n"
    }
   },
   "outputs": [],
   "source": [
    "# View umap\n",
    "plt.scatter(umap[:,0], umap[:,1], alpha=.1, s=1)\n",
    "plt.scatter(umap[ind_selected,0], umap[ind_selected,1], alpha=.1, s=1)\n",
    "plt.xlabel('UMAP1')\n",
    "plt.ylabel('UMAP2')"
   ]
  },
  {
   "cell_type": "markdown",
   "metadata": {
    "jp-MarkdownHeadingCollapsed": true,
    "tags": [],
    "pycharm": {
     "name": "#%% md\n"
    }
   },
   "source": [
    "### GMM-clustering"
   ]
  },
  {
   "cell_type": "code",
   "execution_count": null,
   "metadata": {
    "pycharm": {
     "name": "#%%\n"
    }
   },
   "outputs": [],
   "source": [
    "G = 3 # USER INPUT REQUIRED: or change to desired cluster number\n",
    "random_state = np.random.randint(100000) # sample random integer\n",
    "print(f'Random state: {random_state}')\n",
    "gmm_labels, gmm_centers = analysis.cluster_gmm(z, G, random_state=random_state)\n",
    "gmm_centers, gmm_centers_ind = analysis.get_nearest_point(z, gmm_centers)"
   ]
  },
  {
   "cell_type": "code",
   "execution_count": null,
   "metadata": {
    "pycharm": {
     "name": "#%%\n"
    }
   },
   "outputs": [],
   "source": [
    "analysis.plot_by_cluster(pc[:,0], pc[:,1], G, \n",
    "                         gmm_labels, \n",
    "                         centers_ind=gmm_centers_ind,\n",
    "                         annotate=True)\n",
    "plt.xlabel('PC1')\n",
    "plt.ylabel('PC2')"
   ]
  },
  {
   "cell_type": "code",
   "execution_count": null,
   "metadata": {
    "pycharm": {
     "name": "#%%\n"
    }
   },
   "outputs": [],
   "source": [
    "fig, ax = analysis.plot_by_cluster_subplot(pc[:,0], pc[:,1], G, gmm_labels)"
   ]
  },
  {
   "cell_type": "code",
   "execution_count": null,
   "metadata": {
    "pycharm": {
     "name": "#%%\n"
    }
   },
   "outputs": [],
   "source": [
    "analysis.plot_by_cluster(umap[:,0], umap[:,1], G, \n",
    "                         gmm_labels, \n",
    "                         centers_ind=gmm_centers_ind,\n",
    "                         annotate=True)\n",
    "plt.xlabel('UMAP1')\n",
    "plt.ylabel('UMAP2')"
   ]
  },
  {
   "cell_type": "code",
   "execution_count": null,
   "metadata": {
    "pycharm": {
     "name": "#%%\n"
    }
   },
   "outputs": [],
   "source": [
    "fig, ax = analysis.plot_by_cluster_subplot(umap[:,0], umap[:,1], G, gmm_labels)"
   ]
  },
  {
   "cell_type": "markdown",
   "metadata": {
    "pycharm": {
     "name": "#%% md\n"
    }
   },
   "source": [
    "**Select particles based on GMM-means clustering**"
   ]
  },
  {
   "cell_type": "code",
   "execution_count": null,
   "metadata": {
    "pycharm": {
     "name": "#%%\n"
    }
   },
   "outputs": [],
   "source": [
    "cluster_ids = [0,2] # USER INPUT REQUIRED: set clusters to select, 0 and 2 in this example\n",
    "ind_selected = select_clusters(gmm_labels, cluster_ids)\n",
    "ind_selected_not = invert_selection(gmm_labels, ind_selected)\n",
    "print('Selected indices:')\n",
    "print(ind_selected)\n",
    "print('Number of selected points:')\n",
    "print(len(ind_selected))\n",
    "print('Number of unselected points:')\n",
    "print(len(ind_selected_not))"
   ]
  },
  {
   "cell_type": "code",
   "execution_count": null,
   "metadata": {
    "pycharm": {
     "name": "#%%\n"
    }
   },
   "outputs": [],
   "source": [
    "# View PCA\n",
    "plt.scatter(pc[:,0], pc[:,1], alpha=.1, s=1)\n",
    "plt.scatter(pc[ind_selected,0], pc[ind_selected,1], alpha=.1, s=1)\n",
    "plt.xlabel('PC1 ({:.2f})'.format(pca.explained_variance_ratio_[0]))\n",
    "plt.ylabel('PC2 ({:.2f})'.format(pca.explained_variance_ratio_[1]))"
   ]
  },
  {
   "cell_type": "code",
   "execution_count": null,
   "metadata": {
    "pycharm": {
     "name": "#%%\n"
    }
   },
   "outputs": [],
   "source": [
    "# View umap\n",
    "plt.scatter(umap[:,0], umap[:,1], alpha=.1, s=1)\n",
    "plt.scatter(umap[ind_selected,0], umap[ind_selected,1], alpha=.1, s=1)\n",
    "plt.xlabel('UMAP1')\n",
    "plt.ylabel('UMAP2')"
   ]
  },
  {
   "cell_type": "markdown",
   "metadata": {
    "jp-MarkdownHeadingCollapsed": true,
    "tags": [],
    "pycharm": {
     "name": "#%% md\n"
    }
   },
   "source": [
    "# Filter by latent outliers"
   ]
  },
  {
   "cell_type": "code",
   "execution_count": null,
   "metadata": {
    "pycharm": {
     "name": "#%%\n"
    }
   },
   "outputs": [],
   "source": [
    "# Compute magnitude of latent encodings\n",
    "znorm = np.sum(z**2,axis=1)**.5"
   ]
  },
  {
   "cell_type": "code",
   "execution_count": null,
   "metadata": {
    "pycharm": {
     "name": "#%%\n"
    }
   },
   "outputs": [],
   "source": [
    "# Distribution of ||z||\n",
    "sns.histplot(znorm, kde=False)\n",
    "plt.xlabel('||z||')"
   ]
  },
  {
   "cell_type": "code",
   "execution_count": null,
   "metadata": {
    "pycharm": {
     "name": "#%%\n"
    }
   },
   "outputs": [],
   "source": [
    "# By default, identify particles with ||z|| 2 std deviations above mean\n",
    "zscore = 2\n",
    "thresh = znorm.mean()+zscore*znorm.std()\n",
    "print(f'Mean: {znorm.mean()}, Std: {znorm.std()}, Selected threshold: {thresh}')"
   ]
  },
  {
   "cell_type": "code",
   "execution_count": null,
   "metadata": {
    "pycharm": {
     "name": "#%%\n"
    }
   },
   "outputs": [],
   "source": [
    "ind_outliers = np.where(znorm >= thresh)[0]\n",
    "ind_outliers_not = invert_selection(znorm, ind_outliers)\n",
    "\n",
    "print('Selected indices:')\n",
    "print(ind_outliers)\n",
    "print('Number of selected points:')\n",
    "print(len(ind_outliers))\n",
    "print('Number of unselected points:')\n",
    "print(len(ind_outliers_not))"
   ]
  },
  {
   "cell_type": "code",
   "execution_count": null,
   "metadata": {
    "pycharm": {
     "name": "#%%\n"
    }
   },
   "outputs": [],
   "source": [
    "g = sns.histplot(znorm, kde=False)\n",
    "plt.axvline(x=thresh)\n",
    "plt.xlabel('||z||')\n",
    "plt.title('Magnitude of particle latent encodings')"
   ]
  },
  {
   "cell_type": "code",
   "execution_count": null,
   "metadata": {
    "pycharm": {
     "name": "#%%\n"
    }
   },
   "outputs": [],
   "source": [
    "# View PCA\n",
    "plt.scatter(pc[:,0], pc[:,1], alpha=.1, s=1)\n",
    "plt.scatter(pc[ind_outliers,0], pc[ind_outliers,1], alpha=.1, s=1)\n",
    "plt.xlabel('PC1 ({:.2f})'.format(pca.explained_variance_ratio_[0]))\n",
    "plt.ylabel('PC2 ({:.2f})'.format(pca.explained_variance_ratio_[1]))\n",
    "plt.title(f'Particles with ||z|| > {thresh}')"
   ]
  },
  {
   "cell_type": "code",
   "execution_count": null,
   "metadata": {
    "pycharm": {
     "name": "#%%\n"
    }
   },
   "outputs": [],
   "source": [
    "# View UMAP\n",
    "plt.scatter(umap[:,0], umap[:,1], alpha=.1, s=1)\n",
    "plt.scatter(umap[ind_outliers,0], umap[ind_outliers,1], alpha=.1, s=1)\n",
    "plt.xlabel('UMAP1')\n",
    "plt.ylabel('UMAP2')\n",
    "plt.title(f'Particles with ||z|| > {thresh}')"
   ]
  },
  {
   "cell_type": "code",
   "execution_count": null,
   "metadata": {
    "pycharm": {
     "name": "#%%\n"
    }
   },
   "outputs": [],
   "source": [
    "# Assign variables for viz/saving cells at the end of the notebook\n",
    "ind_selected = ind_outliers\n",
    "ind_selected_not = ind_outliers_not"
   ]
  },
  {
   "cell_type": "markdown",
   "metadata": {
    "jp-MarkdownHeadingCollapsed": true,
    "tags": [],
    "pycharm": {
     "name": "#%% md\n"
    }
   },
   "source": [
    "# Interactive visualization\n",
    "\n",
    "Interactive visualization of the latent encodings for the trained model. Each point represents a particle image of the dataset. The hover text includes the index of the image in the particle stack. "
   ]
  },
  {
   "cell_type": "code",
   "execution_count": null,
   "metadata": {
    "pycharm": {
     "name": "#%%\n"
    }
   },
   "outputs": [],
   "source": [
    "# Load training output data into a pandas dataframe on a per-particle basis\n",
    "df_train = analysis.load_dataframe(z=z,\n",
    "                                   pc=pc,\n",
    "                                   umap=umap,\n",
    "                                   kmeans_labels=kmeans_labels,\n",
    "                                   gmm_labels=gmm_labels,\n",
    "                                   znorm=znorm)"
   ]
  },
  {
   "cell_type": "code",
   "execution_count": null,
   "metadata": {
    "pycharm": {
     "name": "#%%\n"
    }
   },
   "outputs": [],
   "source": [
    "# Merge dataset and training dataframes (and volseries dataframe, if present)\n",
    "df_merged = pd.DataFrame(np.column_stack([df_train, df_ptcls]),\n",
    "                         columns=df_train.columns.append(df_ptcls.columns))\n",
    "\n",
    "if 'volseries_df' in locals():\n",
    "    df_merged = pd.DataFrame(np.column_stack([df_merged, volseries_df]),\n",
    "                         columns=df_merged.columns.append(volseries_df.columns))"
   ]
  },
  {
   "cell_type": "code",
   "execution_count": null,
   "metadata": {
    "pycharm": {
     "name": "#%%\n"
    }
   },
   "outputs": [],
   "source": [
    "# Coerce particle dataframe from starfile to appropriate dtypes\n",
    "df_merged_num = df_merged.apply(pd.to_numeric, errors='coerce', downcast='float')\n",
    "str_cols = df_merged_num.columns[df_merged_num.isna().any()]\n",
    "df_merged_num[str_cols] = df_merged[str_cols].astype(\"string\")"
   ]
  },
  {
   "cell_type": "code",
   "execution_count": null,
   "metadata": {
    "scrolled": false,
    "pycharm": {
     "name": "#%%\n"
    }
   },
   "outputs": [],
   "source": [
    "pd.set_option('display.max_columns', None)\n",
    "df_merged_num"
   ]
  },
  {
   "cell_type": "markdown",
   "metadata": {
    "pycharm": {
     "name": "#%% md\n"
    }
   },
   "source": [
    "### Interactive selection\n",
    "\n",
    "The next two cells contain helper code to select particles using an interactive lasso tool. \n",
    "\n",
    "1. In the first cell, select points with the lasso tool. The table widget is dynamically updated with the most recent selection's indices. \n",
    "2. Then once you've finalized your selection, **run the next cell** to save the particle indices for downstream analysis/viz.\n",
    "\n",
    "(Double click to clear selection)"
   ]
  },
  {
   "cell_type": "code",
   "execution_count": null,
   "metadata": {
    "scrolled": false,
    "pycharm": {
     "name": "#%%\n"
    }
   },
   "outputs": [],
   "source": [
    "widget, fig, ind_table = analysis.ipy_plot_interactive(df_merged_num, opacity=0.8)\n",
    "VBox((widget,fig,ind_table))"
   ]
  },
  {
   "cell_type": "code",
   "execution_count": null,
   "metadata": {
    "pycharm": {
     "name": "#%%\n"
    }
   },
   "outputs": [],
   "source": [
    "ind_selected = ind_table.data[0].cells.values[0] # save table values\n",
    "ind_selected = np.array(ind_selected)\n",
    "ind_selected_not = invert_selection(range(len(df_train)), ind_selected)\n",
    "\n",
    "df_merged.loc[:,'ind_selected'] = 0\n",
    "df_merged.loc[ind_selected, 'ind_selected'] = 1\n",
    "\n",
    "print('Selected indices:')\n",
    "print(ind_selected)\n",
    "print('Number of selected points:')\n",
    "print(len(ind_selected))\n",
    "print('Number of unselected points:')\n",
    "print(len(ind_selected_not))"
   ]
  },
  {
   "cell_type": "code",
   "execution_count": null,
   "metadata": {
    "pycharm": {
     "name": "#%%\n"
    }
   },
   "outputs": [],
   "source": [
    "# View PCA\n",
    "plt.scatter(pc[:,0], pc[:,1], alpha=.1, s=1)\n",
    "plt.scatter(pc[ind_selected,0], pc[ind_selected,1], alpha=.1, s=1)\n",
    "plt.xlabel('PC1 ({:.2f})'.format(pca.explained_variance_ratio_[0]))\n",
    "plt.ylabel('PC2 ({:.2f})'.format(pca.explained_variance_ratio_[1]))"
   ]
  },
  {
   "cell_type": "code",
   "execution_count": null,
   "metadata": {
    "pycharm": {
     "name": "#%%\n"
    }
   },
   "outputs": [],
   "source": [
    "# View umap\n",
    "plt.scatter(umap[:,0], umap[:,1], alpha=.1, s=1)\n",
    "plt.scatter(umap[ind_selected,0], umap[ind_selected,1], alpha=.1, s=1)\n",
    "plt.xlabel('UMAP1')\n",
    "plt.ylabel('UMAP2')"
   ]
  },
  {
   "cell_type": "markdown",
   "metadata": {
    "jp-MarkdownHeadingCollapsed": true,
    "tags": [],
    "pycharm": {
     "name": "#%% md\n"
    }
   },
   "source": [
    "# View particles"
   ]
  },
  {
   "cell_type": "markdown",
   "metadata": {
    "tags": [],
    "pycharm": {
     "name": "#%% md\n"
    }
   },
   "source": [
    "## View tilt images from selected particles"
   ]
  },
  {
   "cell_type": "code",
   "execution_count": null,
   "metadata": {
    "pycharm": {
     "name": "#%%\n"
    }
   },
   "outputs": [],
   "source": [
    "# lazily load particle images and filter by ind.pkl, if applicable\n",
    "images = dataset.load_particles(config['dataset_args']['particles'],\n",
    "                                lazy=True,\n",
    "                                datadir=config['dataset_args']['datadir'])\n",
    "if ind_img is not None:\n",
    "    particles = [images[i] for i in ind_img.flatten().astype(int)]"
   ]
  },
  {
   "cell_type": "code",
   "execution_count": null,
   "metadata": {
    "pycharm": {
     "name": "#%%\n"
    }
   },
   "outputs": [],
   "source": [
    "# choose 9 particles to view from ind_selected particles\n",
    "if len(ind_selected) > 9:\n",
    "    ind_subset9 = np.random.choice(ind_selected, 9, replace=False)\n",
    "else: \n",
    "    ind_subset9 = ind_selected\n",
    "print(ind_subset9)"
   ]
  },
  {
   "cell_type": "code",
   "execution_count": null,
   "metadata": {
    "pycharm": {
     "name": "#%%\n"
    }
   },
   "outputs": [],
   "source": [
    "# plot the first tilt image of each ind_subset9 particle\n",
    "\n",
    "ind_subset9_imgs = ind_imgs[ind_subset9,0].flatten().astype(int)\n",
    "\n",
    "p = [images[ii].get() for ii in ind_subset9_imgs]\n",
    "_ = analysis.plot_projections(p, ind_subset9)\n",
    "\n",
    "plt.figure()\n",
    "plt.scatter(umap[:,0], umap[:,1], alpha=.1, s=1)\n",
    "plt.scatter(umap[ind_subset9,0], umap[ind_subset9,1], color='k')\n",
    "plt.xlabel('UMAP1')\n",
    "plt.ylabel('UMAP2')"
   ]
  },
  {
   "cell_type": "markdown",
   "metadata": {
    "pycharm": {
     "name": "#%% md\n"
    }
   },
   "source": [
    "## View particle distributions in tomogram context\n",
    "Experimental feature to interactively explore particle distributions in 3D tomogram context. Benefits from optional superposition of tomogram data in z-slice or voxel view, and coloring or selecting particles by any numeric property in df_merged_num. Requires ipyvolume to be installed, and requires this notebook to be opened in Jupyter Notebook (not Jupyter Lab). "
   ]
  },
  {
   "cell_type": "code",
   "execution_count": null,
   "metadata": {
    "scrolled": true,
    "pycharm": {
     "name": "#%%\n"
    }
   },
   "outputs": [],
   "source": [
    "# Define list of absolute paths to all reconstructed tomograms used in this analysis\n",
    "# USER INPUT: absolute path to folder containing (preferably deconvolved or denoised) tomograms\n",
    "path_to_tomograms = ''\n",
    "tomogram_extension = ''\n",
    "\n",
    "tomo_list = list_paths_by_extension(path_to_tomograms, tomogram_extension)\n",
    "tomo_list"
   ]
  },
  {
   "cell_type": "code",
   "execution_count": null,
   "metadata": {
    "scrolled": true,
    "pycharm": {
     "name": "#%%\n"
    }
   },
   "outputs": [],
   "source": [
    "# Define dictionary mapping tomogram file name on disk (as in `tomo_list` above, typically .mrc) \n",
    "#     to the name in the input starfile under _rlnMicrographName header (typically .tomostar)\n",
    "# USER INPUT: provide tomogram.mrc : tomogram.tomostar mappings\n",
    "tomo_star_mappings = {f'{i:05d}_10.00Apx.mrc' : f'{i:05d}.tomostar' for i in range(254, 319)} \n",
    "tomo_star_mappings"
   ]
  },
  {
   "cell_type": "code",
   "execution_count": null,
   "metadata": {
    "pycharm": {
     "name": "#%%\n"
    }
   },
   "outputs": [],
   "source": [
    "analysis.interactive_tomo_ptcls(df_merged, tomo_list, tomo_star_mappings)"
   ]
  },
  {
   "cell_type": "markdown",
   "metadata": {
    "tags": [],
    "pycharm": {
     "name": "#%% md\n"
    }
   },
   "source": [
    "# Save selection\n",
    "\n",
    "Save the particle indices for the selected (`ind_selected`) and unselected particles (`ind_selected_not`) as a .pkl file for downstream processing in cryoDRGN or with other tools.\n",
    "\n",
    "Rename the paths as desired. Note that the indices will be automatically converted if the current cryoDRGN training run has already been filtered (`ind_orig` loaded in an earlier cell)."
   ]
  },
  {
   "cell_type": "code",
   "execution_count": null,
   "metadata": {
    "pycharm": {
     "name": "#%%\n"
    }
   },
   "outputs": [],
   "source": [
    "# Set selection as either the kept or bad particles (for file naming purposes)\n",
    "ind_keep = ind_selected # or ind_selected_not\n",
    "ind_bad = ind_selected_not # or ind_selected"
   ]
  },
  {
   "cell_type": "code",
   "execution_count": null,
   "metadata": {
    "pycharm": {
     "name": "#%%\n"
    }
   },
   "outputs": [],
   "source": [
    "# View PCA\n",
    "plt.scatter(pc[:,0], pc[:,1], alpha=.1, s=1)\n",
    "plt.scatter(pc[ind_keep,0], pc[ind_keep,1], alpha=.1, s=1)\n",
    "plt.xlabel('PC1 ({:.2f})'.format(pca.explained_variance_ratio_[0]))\n",
    "plt.ylabel('PC2 ({:.2f})'.format(pca.explained_variance_ratio_[1]))"
   ]
  },
  {
   "cell_type": "code",
   "execution_count": null,
   "metadata": {
    "pycharm": {
     "name": "#%%\n"
    }
   },
   "outputs": [],
   "source": [
    "# View UMAP\n",
    "plt.scatter(umap[:,0], umap[:,1], alpha=.1, s=1)\n",
    "plt.scatter(umap[ind_keep,0], umap[ind_keep,1], alpha=.1, s=1)\n",
    "plt.xlabel('UMAP1')\n",
    "plt.ylabel('UMAP2')"
   ]
  },
  {
   "cell_type": "code",
   "execution_count": null,
   "metadata": {
    "pycharm": {
     "name": "#%%\n"
    }
   },
   "outputs": [],
   "source": [
    "print('Kept particle indices:')\n",
    "print(ind_keep)\n",
    "print('Number of kept particles:')\n",
    "print(len(ind_keep))\n",
    "print('Number of bad particles:')\n",
    "print(len(ind_bad))"
   ]
  },
  {
   "cell_type": "code",
   "execution_count": null,
   "metadata": {
    "pycharm": {
     "name": "#%%\n"
    }
   },
   "outputs": [],
   "source": [
    "# Path to save index .pkl for selected particles\n",
    "SAVE_PATH = f'{WORKDIR}/ind_keep.{len(ind_keep)}_particles.pkl'\n",
    "utils.save_pkl(ind_keep, SAVE_PATH)\n",
    "print(f'Wrote {os.path.abspath(SAVE_PATH)}')"
   ]
  },
  {
   "cell_type": "code",
   "execution_count": null,
   "metadata": {
    "pycharm": {
     "name": "#%%\n"
    }
   },
   "outputs": [],
   "source": [
    "# Path to save index .pkl for non-selected particles\n",
    "SAVE_PATH = f'{WORKDIR}/ind_bad.{len(ind_bad)}_particles.pkl'\n",
    "utils.save_pkl(ind_keep, SAVE_PATH)\n",
    "print(f'Wrote {os.path.abspath(SAVE_PATH)}')"
   ]
  },
  {
   "cell_type": "code",
   "execution_count": null,
   "metadata": {
    "pycharm": {
     "name": "#%%\n"
    }
   },
   "outputs": [],
   "source": []
  }
 ],
 "metadata": {
  "kernelspec": {
   "display_name": "Python 3 (ipykernel)",
   "language": "python",
   "name": "python3"
  },
  "language_info": {
   "codemirror_mode": {
    "name": "ipython",
    "version": 3
   },
   "file_extension": ".py",
   "mimetype": "text/x-python",
   "name": "python",
   "nbconvert_exporter": "python",
   "pygments_lexer": "ipython3",
   "version": "3.7.13"
  }
 },
 "nbformat": 4,
 "nbformat_minor": 4
}