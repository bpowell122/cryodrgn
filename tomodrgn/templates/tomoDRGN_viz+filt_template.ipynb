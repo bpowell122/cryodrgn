{
 "cells": [
  {
   "cell_type": "markdown",
   "metadata": {},
   "source": [
    "# tomoDRGN interactive visualization and filtering\n",
    "\n",
    "This jupyter notebook provides multiple methods for filtering particles based on the latent space, including:\n",
    "* clustering of the latent space (k-means or Gaussian mixture model)\n",
    "* outlier detection (Z-score)\n",
    "* interactive selection with a lasso tool\n",
    "\n",
    "For each method, the selected particles are tracked in the variable, `ind_selected`.\n",
    "\n",
    "Selected particles can be analyzed for correlations with other outputs from tomoDRGN training/analysis, and/or spatial context from the final M starfile\n",
    "\n",
    "Once the selection has been finalized, the selected particles are saved as a `index.pkl` file at the end of this notebook. The selected indices can be provided to tomoDRGN with the `--ind` argument to train a new model on a subset of the images or converted to `.star` file format."
   ]
  },
  {
   "cell_type": "markdown",
   "metadata": {},
   "source": [
    "For full functionality, the following files are required:\n",
    "* tomoDRGN train_vae_ts training run outputs (.pkl)\n",
    "* tomoDRGN analyze outputs (.pkl)\n",
    "* M starfile from the final round of traditional STA alignment (.star)\n",
    "* reconstructed tomograms (.mrc)"
   ]
  },
  {
   "cell_type": "code",
   "execution_count": null,
   "metadata": {},
   "outputs": [],
   "source": [
    "import pandas as pd\n",
    "import numpy as np\n",
    "import pickle\n",
    "import subprocess\n",
    "import os, sys\n",
    "\n",
    "from cryodrgn import analysis\n",
    "from cryodrgn import utils\n",
    "from cryodrgn import dataset\n",
    "from cryodrgn import ctf\n",
    "from cryodrgn import starfile\n",
    "                \n",
    "import matplotlib.pyplot as plt\n",
    "import seaborn as sns\n",
    "import plotly.graph_objs as go\n",
    "import plotly.offline as py\n",
    "from ipywidgets import interact, interactive, HBox, VBox\n",
    "from scipy.spatial.transform import Rotation as RR\n",
    "py.init_notebook_mode()\n",
    "from IPython.display import FileLink, FileLinks"
   ]
  },
  {
   "cell_type": "code",
   "execution_count": null,
   "metadata": {},
   "outputs": [],
   "source": [
    "# Enable interactive widgets\n",
    "!jupyter nbextension enable --py widgetsnbextension"
   ]
  },
  {
   "cell_type": "markdown",
   "metadata": {},
   "source": [
    "### Load results"
   ]
  },
  {
   "cell_type": "code",
   "execution_count": null,
   "metadata": {},
   "outputs": [],
   "source": [
    "# Specify the workdir and the epoch number (0-based index) to analyze\n",
    "WORKDIR = '..' \n",
    "EPOCH = 49 # CHANGE ME"
   ]
  },
  {
   "cell_type": "code",
   "execution_count": null,
   "metadata": {},
   "outputs": [],
   "source": [
    "print(os.path.abspath(WORKDIR))"
   ]
  },
  {
   "cell_type": "code",
   "execution_count": null,
   "metadata": {},
   "outputs": [],
   "source": [
    "# Load z\n",
    "with open(f'{WORKDIR}/z.{EPOCH}.pkl','rb') as f:\n",
    "    z = pickle.load(f)\n",
    "    z_logvar = pickle.load(f)"
   ]
  },
  {
   "cell_type": "code",
   "execution_count": null,
   "metadata": {},
   "outputs": [],
   "source": [
    "# Load UMAP\n",
    "umap = utils.load_pkl(f'{WORKDIR}/analyze.{EPOCH}/umap.pkl')\n",
    "# or run UMAP\n",
    "# umap = analysis.run_umap(z)"
   ]
  },
  {
   "cell_type": "code",
   "execution_count": null,
   "metadata": {},
   "outputs": [],
   "source": [
    "# Load kmeans\n",
    "K = 20\n",
    "kmeans_labels = utils.load_pkl(f'{WORKDIR}/analyze.{EPOCH}/kmeans{K}/labels.pkl')\n",
    "kmeans_centers = np.loadtxt(f'{WORKDIR}/analyze.{EPOCH}/kmeans{K}/centers.txt')\n",
    "# Or re-run kmeans with the desired number of classes\n",
    "#kmeans_labels, kmeans_centers = analysis.cluster_kmeans(z, 20)\n",
    "\n",
    "# Get index for on-data cluster center\n",
    "kmeans_centers, centers_ind = analysis.get_nearest_point(z, kmeans_centers)"
   ]
  },
  {
   "cell_type": "markdown",
   "metadata": {},
   "source": [
    "### Load dataset"
   ]
  },
  {
   "cell_type": "code",
   "execution_count": null,
   "metadata": {},
   "outputs": [],
   "source": [
    "# Load configuration file\n",
    "config = utils.load_pkl(f'{WORKDIR}/config.pkl')\n",
    "print(config)"
   ]
  },
  {
   "cell_type": "code",
   "execution_count": null,
   "metadata": {},
   "outputs": [],
   "source": [
    "# Load poses\n",
    "pose_pkl = config['dataset_args']['poses']\n",
    "rot, trans = utils.load_pkl(pose_pkl)"
   ]
  },
  {
   "cell_type": "code",
   "execution_count": null,
   "metadata": {},
   "outputs": [],
   "source": [
    "# Convert rotation matrices to euler angles\n",
    "euler = RR.from_matrix(rot).as_euler('zyz', degrees=True)"
   ]
  },
  {
   "cell_type": "code",
   "execution_count": null,
   "metadata": {},
   "outputs": [],
   "source": [
    "# Load ptcl index filter\n",
    "ind_ptcl_filt = config['dataset_args']['ind']\n",
    "if ind_ptcl_filt is not None:\n",
    "    ind_ptcl_filt = utils.load_pkl(ind_ptcl_filt)\n",
    "\n",
    "# Load image index filter\n",
    "ind_img_filt = config['dataset_args']['expanded_ind']\n",
    "\n",
    "# apply index filter to poses\n",
    "if len(rot) > len(ind_img_filt):\n",
    "    print(f'Filtering poses from {len(rot)} to {len(ind_img_filt)}')\n",
    "    rot = rot[ind_img_filt]\n",
    "    trans = trans[ind_img_filt]\n",
    "    euler = euler[ind_img_filt]"
   ]
  },
  {
   "cell_type": "code",
   "execution_count": null,
   "metadata": {},
   "outputs": [],
   "source": [
    "# Load input particles\n",
    "particles = dataset.load_particles(config['dataset_args']['particles'],\n",
    "                            lazy=True,\n",
    "                            datadir=config['dataset_args']['datadir'])\n",
    "n_ptcl_orig = len(particles)\n",
    "if len(particles) > len(ind_img_filt):\n",
    "    print(f'Filtering particles from {len(particles)} to {len(ind_img_filt)}')\n",
    "    particles = [particles[i] for i in ind_img_filt]"
   ]
  },
  {
   "cell_type": "code",
   "execution_count": null,
   "metadata": {},
   "outputs": [],
   "source": [
    "# Load CTF\n",
    "ctf_params = utils.load_pkl(config['dataset_args']['ctf'])\n",
    "if len(ctf_params) > len(ind_img_filt):\n",
    "    print(f'Filtering ctf parameters from {len(ctf_params)} to {len(ind_img_filt)}')\n",
    "    ctf_params = ctf_params[ind_img_filt]\n",
    "ctf.print_ctf_params(ctf_params[0])"
   ]
  },
  {
   "cell_type": "code",
   "execution_count": null,
   "metadata": {},
   "outputs": [],
   "source": [
    "# Load additional metadata from M outfile (tomogram positions, tomogram IDs)\n",
    "path_to_M_outfile = '' # USER INPUT: INSERT ABSOLUTE PATH TO M STARFILE\n",
    "mstar = starfile.GenericStarfile(path_to_M_outfile)\n",
    "df_mstar = mstar.blocks['data_']\n",
    "if ind_ptcl_filt is not None:\n",
    "    df_mstar = df_mstar[df_mstar.index.isin(ind_ptcl_filt)]\n",
    "\n",
    "# Assign unique, sequential ID numbers to each tomogram for later visualization\n",
    "ind_tomo = {tomo_name : tomo_index for tomo_index, tomo_name in enumerate(df_mstar['_rlnMicrographName'].unique())}\n",
    "df_mstar.loc[:,'ind_tomo'] = [ind_tomo[row] for row in df_mstar['_rlnMicrographName']]\n",
    "\n",
    "# rescale df xyz coordinates to match reconstructed tomograms pixel size\n",
    "df_mstar = analysis.rescale_df_coordinates(df_mstar, tomo_max_xyz_nm=(680, 680, 510), tomo_pixelsize=10, starfile_pixelsize=1)\n",
    "df_mstar"
   ]
  },
  {
   "cell_type": "markdown",
   "metadata": {
    "tags": []
   },
   "source": [
    "### Define helper functions"
   ]
  },
  {
   "cell_type": "code",
   "execution_count": null,
   "metadata": {},
   "outputs": [],
   "source": [
    "def list_paths_by_extension(basedir, extension):\n",
    "    file_list = [os.path.join(basedir, file) for file in os.listdir(basedir) if file.endswith(extension)]\n",
    "    return sorted(file_list)"
   ]
  },
  {
   "cell_type": "code",
   "execution_count": null,
   "metadata": {},
   "outputs": [],
   "source": [
    "def invert_selection(all_labels, ind_selected):\n",
    "    return np.array(sorted(set(np.arange(len(all_labels))) - set(ind_selected)))"
   ]
  },
  {
   "cell_type": "code",
   "execution_count": null,
   "metadata": {},
   "outputs": [],
   "source": [
    "def combine_selection(ind_sel1, ind_sel2, kind='union'):\n",
    "    assert kind in ('union','intersection')\n",
    "    return analysis.combine_ind(len(z), ind_sel1, ind_sel2, kind)"
   ]
  },
  {
   "cell_type": "code",
   "execution_count": null,
   "metadata": {},
   "outputs": [],
   "source": [
    "def select_clusters(labels, cluster_ids):\n",
    "    return analysis.get_ind_for_cluster(labels, cluster_ids)"
   ]
  },
  {
   "cell_type": "code",
   "execution_count": null,
   "metadata": {},
   "outputs": [],
   "source": [
    "def save_selection(path, index):\n",
    "    if ind_ptcl_filt is not None:\n",
    "        print('Converting to original .mrcs indices')\n",
    "        index = analysis.convert_original_indices(index, n_ptcl_orig, ind_ptcl_filt)\n",
    "    utils.save_pkl(index, path)\n",
    "    print(f'Wrote {os.path.abspath(path)}')"
   ]
  },
  {
   "cell_type": "markdown",
   "metadata": {
    "tags": []
   },
   "source": [
    "# Plot dataset / model properties"
   ]
  },
  {
   "cell_type": "markdown",
   "metadata": {
    "tags": []
   },
   "source": [
    "### View pose distribution"
   ]
  },
  {
   "cell_type": "code",
   "execution_count": null,
   "metadata": {},
   "outputs": [],
   "source": [
    "# rotations\n",
    "analysis.plot_euler(euler[:,0],euler[:,1], euler[:,2])"
   ]
  },
  {
   "cell_type": "code",
   "execution_count": null,
   "metadata": {},
   "outputs": [],
   "source": [
    "# translations\n",
    "# set near-zero translations to 0.0 to allow sns.jointplot to work\n",
    "trans[np.isclose(trans, 0.0, atol=1e-4)] = 0.0\n",
    "sns.jointplot(x=trans[:,0],\n",
    "              y=trans[:,1],\n",
    "              kind='hex').set_axis_labels('tx (fraction)','ty (fraction)')"
   ]
  },
  {
   "cell_type": "markdown",
   "metadata": {
    "tags": []
   },
   "source": [
    "### Learning curve"
   ]
  },
  {
   "cell_type": "code",
   "execution_count": null,
   "metadata": {},
   "outputs": [],
   "source": [
    "loss = analysis.parse_loss(f'{WORKDIR}/run.log')\n",
    "plt.plot(loss)\n",
    "plt.xlabel('epoch')\n",
    "plt.ylabel('loss')"
   ]
  },
  {
   "cell_type": "markdown",
   "metadata": {
    "tags": []
   },
   "source": [
    "### PCA"
   ]
  },
  {
   "cell_type": "code",
   "execution_count": null,
   "metadata": {},
   "outputs": [],
   "source": [
    "pc, pca = analysis.run_pca(z)"
   ]
  },
  {
   "cell_type": "code",
   "execution_count": null,
   "metadata": {},
   "outputs": [],
   "source": [
    "g = sns.jointplot(x=pc[:,0], y=pc[:,1], alpha=.1, s=1)\n",
    "g.set_axis_labels('PC1', 'PC2')"
   ]
  },
  {
   "cell_type": "code",
   "execution_count": null,
   "metadata": {},
   "outputs": [],
   "source": [
    "g = sns.jointplot(x=pc[:,0], y=pc[:,1], kind='hex')\n",
    "g.set_axis_labels('PC1', 'PC2')"
   ]
  },
  {
   "cell_type": "code",
   "execution_count": null,
   "metadata": {},
   "outputs": [],
   "source": [
    "plt.bar(np.arange(z.shape[1])+1,pca.explained_variance_ratio_)\n",
    "plt.xticks(np.arange(z.shape[1])+1)\n",
    "plt.xlabel('PC')\n",
    "plt.ylabel('explained variance')"
   ]
  },
  {
   "cell_type": "markdown",
   "metadata": {
    "tags": []
   },
   "source": [
    "### UMAP"
   ]
  },
  {
   "cell_type": "code",
   "execution_count": null,
   "metadata": {},
   "outputs": [],
   "source": [
    "g = sns.jointplot(x=umap[:,0], y=umap[:,1], alpha=.1, s=1)\n",
    "g.set_axis_labels('UMAP1', 'UMAP2')"
   ]
  },
  {
   "cell_type": "code",
   "execution_count": null,
   "metadata": {},
   "outputs": [],
   "source": [
    "g = sns.jointplot(x=umap[:,0], y=umap[:,1], kind='hex')\n",
    "g.set_axis_labels('UMAP1', 'UMAP2')"
   ]
  },
  {
   "cell_type": "markdown",
   "metadata": {
    "tags": []
   },
   "source": [
    "# Filter by clustering\n",
    "\n",
    "Select particles based on k-means cluster labels or GMM cluster labels"
   ]
  },
  {
   "cell_type": "markdown",
   "metadata": {
    "tags": []
   },
   "source": [
    "### View K-means clusters"
   ]
  },
  {
   "cell_type": "code",
   "execution_count": null,
   "metadata": {},
   "outputs": [],
   "source": [
    "# Optionally, re-run kmeans with the desired number of classes\n",
    "#K = 20\n",
    "#kmeans_labels, kmeans_centers = analysis.cluster_kmeans(z, K)"
   ]
  },
  {
   "cell_type": "code",
   "execution_count": null,
   "metadata": {},
   "outputs": [],
   "source": [
    "K = len(set(kmeans_labels))\n",
    "c = pca.transform(kmeans_centers) # transform to view with PCs\n",
    "analysis.plot_by_cluster(pc[:,0], pc[:,1], K, \n",
    "                         kmeans_labels, \n",
    "                         centers=c,\n",
    "                         annotate=True)\n",
    "plt.xlabel('PC1')\n",
    "plt.ylabel('PC2')"
   ]
  },
  {
   "cell_type": "code",
   "execution_count": null,
   "metadata": {},
   "outputs": [],
   "source": [
    "fig, ax = analysis.plot_by_cluster_subplot(pc[:,0], pc[:,1], K, \n",
    "                            kmeans_labels)"
   ]
  },
  {
   "cell_type": "code",
   "execution_count": null,
   "metadata": {},
   "outputs": [],
   "source": [
    "analysis.plot_by_cluster(umap[:,0], umap[:,1], K, \n",
    "                         kmeans_labels, \n",
    "                         centers_ind=centers_ind,\n",
    "                         annotate=True)\n",
    "plt.xlabel('UMAP1')\n",
    "plt.ylabel('UMAP2')"
   ]
  },
  {
   "cell_type": "code",
   "execution_count": null,
   "metadata": {},
   "outputs": [],
   "source": [
    "fig, ax = analysis.plot_by_cluster_subplot(umap[:,0], umap[:,1], K, \n",
    "                            kmeans_labels)"
   ]
  },
  {
   "cell_type": "markdown",
   "metadata": {},
   "source": [
    "**Select particles based on k-means clustering**"
   ]
  },
  {
   "cell_type": "code",
   "execution_count": null,
   "metadata": {},
   "outputs": [],
   "source": [
    "cluster_ids = [19] # set clusters to select, 0 and 2 in this example\n",
    "ind_selected = select_clusters(kmeans_labels, cluster_ids)\n",
    "ind_selected_not = invert_selection(kmeans_labels, ind_selected)\n",
    "print('Selected indices:')\n",
    "print(ind_selected)\n",
    "print('Number of selected points:')\n",
    "print(len(ind_selected))\n",
    "print('Number of unselected points:')\n",
    "print(len(ind_selected_not))"
   ]
  },
  {
   "cell_type": "code",
   "execution_count": null,
   "metadata": {},
   "outputs": [],
   "source": [
    "# View PCA\n",
    "plt.scatter(pc[:,0], pc[:,1], alpha=.1, s=1)\n",
    "plt.scatter(pc[ind_selected,0], pc[ind_selected,1], alpha=.1, s=1)\n",
    "plt.xlabel('PC1 ({:.2f})'.format(pca.explained_variance_ratio_[0]))\n",
    "plt.ylabel('PC2 ({:.2f})'.format(pca.explained_variance_ratio_[1]))"
   ]
  },
  {
   "cell_type": "code",
   "execution_count": null,
   "metadata": {},
   "outputs": [],
   "source": [
    "# View umap\n",
    "plt.scatter(umap[:,0], umap[:,1], alpha=.1, s=1)\n",
    "plt.scatter(umap[ind_selected,0], umap[ind_selected,1], alpha=.1, s=1)\n",
    "plt.xlabel('UMAP1')\n",
    "plt.ylabel('UMAP2')"
   ]
  },
  {
   "cell_type": "markdown",
   "metadata": {
    "jp-MarkdownHeadingCollapsed": true,
    "tags": []
   },
   "source": [
    "### GMM-clustering"
   ]
  },
  {
   "cell_type": "code",
   "execution_count": null,
   "metadata": {},
   "outputs": [],
   "source": [
    "G = 3 # or change to desired cluster number\n",
    "random_state = np.random.randint(100000) # sample random integer\n",
    "print(f'Random state: {random_state}')\n",
    "gmm_labels, gmm_centers = analysis.cluster_gmm(z, G, random_state=random_state)\n",
    "gmm_centers, gmm_centers_ind = analysis.get_nearest_point(z, gmm_centers)"
   ]
  },
  {
   "cell_type": "code",
   "execution_count": null,
   "metadata": {},
   "outputs": [],
   "source": [
    "analysis.plot_by_cluster(pc[:,0], pc[:,1], G, \n",
    "                         gmm_labels, \n",
    "                         centers_ind=gmm_centers_ind,\n",
    "                         annotate=True)\n",
    "plt.xlabel('PC1')\n",
    "plt.ylabel('PC2')"
   ]
  },
  {
   "cell_type": "code",
   "execution_count": null,
   "metadata": {},
   "outputs": [],
   "source": [
    "fig, ax = analysis.plot_by_cluster_subplot(pc[:,0], pc[:,1], G, gmm_labels)"
   ]
  },
  {
   "cell_type": "code",
   "execution_count": null,
   "metadata": {},
   "outputs": [],
   "source": [
    "analysis.plot_by_cluster(umap[:,0], umap[:,1], G, \n",
    "                         gmm_labels, \n",
    "                         centers_ind=gmm_centers_ind,\n",
    "                         annotate=True)\n",
    "plt.xlabel('UMAP1')\n",
    "plt.ylabel('UMAP2')"
   ]
  },
  {
   "cell_type": "code",
   "execution_count": null,
   "metadata": {},
   "outputs": [],
   "source": [
    "fig, ax = analysis.plot_by_cluster_subplot(umap[:,0], umap[:,1], G, gmm_labels)"
   ]
  },
  {
   "cell_type": "markdown",
   "metadata": {},
   "source": [
    "**Select particles based on GMM-means clustering**"
   ]
  },
  {
   "cell_type": "code",
   "execution_count": null,
   "metadata": {},
   "outputs": [],
   "source": [
    "cluster_ids = [1] # set clusters to select, 0 and 2 in this example\n",
    "ind_selected = select_clusters(gmm_labels, cluster_ids)\n",
    "ind_selected_not = invert_selection(gmm_labels, ind_selected)\n",
    "print('Selected indices:')\n",
    "print(ind_selected)\n",
    "print('Number of selected points:')\n",
    "print(len(ind_selected))\n",
    "print('Number of unselected points:')\n",
    "print(len(ind_selected_not))"
   ]
  },
  {
   "cell_type": "code",
   "execution_count": null,
   "metadata": {},
   "outputs": [],
   "source": [
    "# View PCA\n",
    "plt.scatter(pc[:,0], pc[:,1], alpha=.1, s=1)\n",
    "plt.scatter(pc[ind_selected,0], pc[ind_selected,1], alpha=.1, s=1)\n",
    "plt.xlabel('PC1 ({:.2f})'.format(pca.explained_variance_ratio_[0]))\n",
    "plt.ylabel('PC2 ({:.2f})'.format(pca.explained_variance_ratio_[1]))"
   ]
  },
  {
   "cell_type": "code",
   "execution_count": null,
   "metadata": {},
   "outputs": [],
   "source": [
    "# View umap\n",
    "plt.scatter(umap[:,0], umap[:,1], alpha=.1, s=1)\n",
    "plt.scatter(umap[ind_selected,0], umap[ind_selected,1], alpha=.1, s=1)\n",
    "plt.xlabel('UMAP1')\n",
    "plt.ylabel('UMAP2')"
   ]
  },
  {
   "cell_type": "markdown",
   "metadata": {
    "jp-MarkdownHeadingCollapsed": true,
    "tags": []
   },
   "source": [
    "# Filter by latent outliers"
   ]
  },
  {
   "cell_type": "code",
   "execution_count": null,
   "metadata": {},
   "outputs": [],
   "source": [
    "# Compute magnitude of latent encodings\n",
    "znorm = np.sum(z**2,axis=1)**.5"
   ]
  },
  {
   "cell_type": "code",
   "execution_count": null,
   "metadata": {},
   "outputs": [],
   "source": [
    "# Distribution of ||z||\n",
    "sns.histplot(znorm, kde=False)\n",
    "plt.xlabel('||z||')"
   ]
  },
  {
   "cell_type": "code",
   "execution_count": null,
   "metadata": {},
   "outputs": [],
   "source": [
    "# By default, identify particles with ||z|| 2 std deviations above mean\n",
    "zscore = 2\n",
    "thresh = znorm.mean()+zscore*znorm.std()\n",
    "print(f'Mean: {znorm.mean()}, Std: {znorm.std()}, Selected threshold: {thresh}')"
   ]
  },
  {
   "cell_type": "code",
   "execution_count": null,
   "metadata": {},
   "outputs": [],
   "source": [
    "ind_outliers = np.where(znorm >= thresh)[0]\n",
    "ind_outliers_not = invert_selection(znorm, ind_outliers)\n",
    "\n",
    "print('Selected indices:')\n",
    "print(ind_outliers)\n",
    "print('Number of selected points:')\n",
    "print(len(ind_outliers))\n",
    "print('Number of unselected points:')\n",
    "print(len(ind_outliers_not))"
   ]
  },
  {
   "cell_type": "code",
   "execution_count": null,
   "metadata": {},
   "outputs": [],
   "source": [
    "g = sns.histplot(znorm, kde=False)\n",
    "plt.axvline(x=thresh)\n",
    "plt.xlabel('||z||')\n",
    "plt.title('Magnitude of particle latent encodings')"
   ]
  },
  {
   "cell_type": "code",
   "execution_count": null,
   "metadata": {},
   "outputs": [],
   "source": [
    "# View PCA\n",
    "plt.scatter(pc[:,0], pc[:,1], alpha=.1, s=1)\n",
    "plt.scatter(pc[ind_outliers,0], pc[ind_outliers,1], alpha=.1, s=1)\n",
    "plt.xlabel('PC1 ({:.2f})'.format(pca.explained_variance_ratio_[0]))\n",
    "plt.ylabel('PC2 ({:.2f})'.format(pca.explained_variance_ratio_[1]))\n",
    "plt.title(f'Particles with ||z|| > {thresh}')"
   ]
  },
  {
   "cell_type": "code",
   "execution_count": null,
   "metadata": {},
   "outputs": [],
   "source": [
    "# View UMAP\n",
    "plt.scatter(umap[:,0], umap[:,1], alpha=.1, s=1)\n",
    "plt.scatter(umap[ind_outliers,0], umap[ind_outliers,1], alpha=.1, s=1)\n",
    "plt.xlabel('UMAP1')\n",
    "plt.ylabel('UMAP2')\n",
    "plt.title(f'Particles with ||z|| > {thresh}')"
   ]
  },
  {
   "cell_type": "code",
   "execution_count": null,
   "metadata": {},
   "outputs": [],
   "source": [
    "# Assign variables for viz/saving cells at the end of the notebook\n",
    "ind_selected = ind_outliers\n",
    "ind_selected_not = ind_outliers_not"
   ]
  },
  {
   "cell_type": "markdown",
   "metadata": {
    "jp-MarkdownHeadingCollapsed": true,
    "tags": []
   },
   "source": [
    "# Interactive visualization\n",
    "\n",
    "Interactive visualization of the latent encodings for the trained model. Each point represents a particle image of the dataset. The hover text includes the index of the image in the particle stack. "
   ]
  },
  {
   "cell_type": "code",
   "execution_count": null,
   "metadata": {},
   "outputs": [],
   "source": [
    "# Load data into a pandas dataframe on a per-particle basis\n",
    "ntilts = config['dataset_args']['ntilts']\n",
    "df_train = analysis.load_dataframe(z=z,\n",
    "                                  pc=pc, \n",
    "                                  euler=euler[::ntilts],\n",
    "                                  trans=trans[::ntilts], \n",
    "                                  kmeans_labels=kmeans_labels,\n",
    "                                  gmm_labels=gmm_labels,\n",
    "                                  umap=umap,\n",
    "                                  df1=ctf_params[::ntilts,2],\n",
    "                                  df2=ctf_params[::ntilts,3],\n",
    "                                  dfang=ctf_params[::ntilts,4],\n",
    "                                  phase=ctf_params[::ntilts,8],\n",
    "                                  znorm=znorm)"
   ]
  },
  {
   "cell_type": "code",
   "execution_count": null,
   "metadata": {},
   "outputs": [],
   "source": [
    "# merge training output dataframe with M s\n",
    "df_train.reset_index(drop=True, inplace=True)\n",
    "df_mstar.reset_index(drop=True, inplace=True)\n",
    "\n",
    "df_merged = pd.concat( [df_train, df_mstar], axis=1) "
   ]
  },
  {
   "cell_type": "code",
   "execution_count": null,
   "metadata": {},
   "outputs": [],
   "source": [
    "pd.set_option('display.max_columns', None)\n",
    "df_merged.head()"
   ]
  },
  {
   "cell_type": "markdown",
   "metadata": {},
   "source": [
    "### Interactive selection\n",
    "\n",
    "The next two cells contain helper code to select particles using an interactive lasso tool. \n",
    "\n",
    "1. In the first cell, select points with the lasso tool. The table widget is dynamically updated with the most recent selection's indices. \n",
    "2. Then once you've finalized your selection, **run the next cell** to save the particle indices for downstream analysis/viz.\n",
    "\n",
    "(Double click to clear selection)"
   ]
  },
  {
   "cell_type": "code",
   "execution_count": null,
   "metadata": {},
   "outputs": [],
   "source": [
    "widget, fig, ind_table = analysis.ipy_plot_interactive(df_train, opacity=0.8)\n",
    "VBox((widget,fig,ind_table))"
   ]
  },
  {
   "cell_type": "code",
   "execution_count": null,
   "metadata": {},
   "outputs": [],
   "source": [
    "ind_selected = ind_table.data[0].cells.values[0] # save table values\n",
    "ind_selected = np.array(ind_selected)\n",
    "ind_selected_not = invert_selection(range(len(df_train)), ind_selected)\n",
    "\n",
    "df_merged.loc[:,'ind_selected'] = 0\n",
    "df_merged.loc[ind_selected, 'ind_selected'] = 1\n",
    "\n",
    "print('Selected indices:')\n",
    "print(ind_selected)\n",
    "print('Number of selected points:')\n",
    "print(len(ind_selected))\n",
    "print('Number of unselected points:')\n",
    "print(len(ind_selected_not))"
   ]
  },
  {
   "cell_type": "code",
   "execution_count": null,
   "metadata": {},
   "outputs": [],
   "source": [
    "# View PCA\n",
    "plt.scatter(pc[:,0], pc[:,1], alpha=.1, s=1)\n",
    "plt.scatter(pc[ind_selected,0], pc[ind_selected,1], alpha=.1, s=1)\n",
    "plt.xlabel('PC1 ({:.2f})'.format(pca.explained_variance_ratio_[0]))\n",
    "plt.ylabel('PC2 ({:.2f})'.format(pca.explained_variance_ratio_[1]))"
   ]
  },
  {
   "cell_type": "code",
   "execution_count": null,
   "metadata": {},
   "outputs": [],
   "source": [
    "# View umap\n",
    "plt.scatter(umap[:,0], umap[:,1], alpha=.1, s=1)\n",
    "plt.scatter(umap[ind_selected,0], umap[ind_selected,1], alpha=.1, s=1)\n",
    "plt.xlabel('UMAP1')\n",
    "plt.ylabel('UMAP2')"
   ]
  },
  {
   "cell_type": "markdown",
   "metadata": {
    "jp-MarkdownHeadingCollapsed": true,
    "tags": []
   },
   "source": [
    "# View particles"
   ]
  },
  {
   "cell_type": "markdown",
   "metadata": {
    "tags": []
   },
   "source": [
    "## View images from selected particles"
   ]
  },
  {
   "cell_type": "code",
   "execution_count": null,
   "metadata": {},
   "outputs": [],
   "source": [
    "particle_ind = ind_selected # or set to custom selection"
   ]
  },
  {
   "cell_type": "code",
   "execution_count": null,
   "metadata": {},
   "outputs": [],
   "source": [
    "# Choose 9 particles to view at random\n",
    "if len(particle_ind) > 9:\n",
    "    ind_subset9 = np.random.choice(particle_ind, 9, replace=False)\n",
    "else: \n",
    "    ind_subset9 = particle_ind\n",
    "print(ind_subset9)"
   ]
  },
  {
   "cell_type": "code",
   "execution_count": null,
   "metadata": {},
   "outputs": [],
   "source": [
    "p = [particles[ii].get() for ii in ind_subset9]\n",
    "_ = analysis.plot_projections(p, ind_subset9)\n",
    "\n",
    "plt.figure()\n",
    "plt.scatter(umap[:,0], umap[:,1], alpha=.1, s=1)\n",
    "plt.scatter(umap[ind_subset9,0], umap[ind_subset9,1], color='k')\n",
    "plt.xlabel('UMAP1')\n",
    "plt.ylabel('UMAP2')"
   ]
  },
  {
   "cell_type": "markdown",
   "metadata": {},
   "source": [
    "## View particle distributions in tomogram context"
   ]
  },
  {
   "cell_type": "code",
   "execution_count": null,
   "metadata": {
    "scrolled": true
   },
   "outputs": [],
   "source": [
    "tomo_list = list_paths_by_extension(\n",
    "    '', # USER INPUT: INSERT ABSOLUTE PATH TO (DECONVOLVED) TOMOGRAMS\n",
    "    '.mrc')\n",
    "tomo_list"
   ]
  },
  {
   "cell_type": "code",
   "execution_count": null,
   "metadata": {
    "scrolled": true
   },
   "outputs": [],
   "source": [
    "tomo_star_mappings = {f'{i:05d}_10.00Apx.mrc' : f'{i:05d}.tomostar' for i in range(254, 319)} # USER INPUT: PROVIDE TOMOGRAM.MRC : TOMOGRAM.TOMOSTAR MAPPINGS\n",
    "tomo_star_mappings"
   ]
  },
  {
   "cell_type": "code",
   "execution_count": null,
   "metadata": {},
   "outputs": [],
   "source": [
    "analysis.interactive_tomo_ptcls(df_merged, tomo_list, tomo_star_mappings)"
   ]
  },
  {
   "cell_type": "markdown",
   "metadata": {
    "tags": []
   },
   "source": [
    "# Save selection\n",
    "\n",
    "Save the particle indices for the selected (`ind_selected`) and unselected particles (`ind_selected_not`) as a .pkl file for downstream processing in cryoDRGN or with other tools.\n",
    "\n",
    "Rename the paths as desired. Note that the indices will be automatically converted if the current cryoDRGN training run has already been filtered (`ind_orig` loaded in an earlier cell)."
   ]
  },
  {
   "cell_type": "code",
   "execution_count": null,
   "metadata": {},
   "outputs": [],
   "source": [
    "# Set selection as either the kept or bad particles (for file naming purposes)\n",
    "ind_keep = ind_selected # or ind_selected_not\n",
    "ind_bad = ind_selected_not # or ind_selected"
   ]
  },
  {
   "cell_type": "code",
   "execution_count": null,
   "metadata": {},
   "outputs": [],
   "source": [
    "# View PCA\n",
    "plt.scatter(pc[:,0], pc[:,1], alpha=.1, s=1)\n",
    "plt.scatter(pc[ind_keep,0], pc[ind_keep,1], alpha=.1, s=1)\n",
    "plt.xlabel('PC1 ({:.2f})'.format(pca.explained_variance_ratio_[0]))\n",
    "plt.ylabel('PC2 ({:.2f})'.format(pca.explained_variance_ratio_[1]))"
   ]
  },
  {
   "cell_type": "code",
   "execution_count": null,
   "metadata": {},
   "outputs": [],
   "source": [
    "# View UMAP\n",
    "plt.scatter(umap[:,0], umap[:,1], alpha=.1, s=1)\n",
    "plt.scatter(umap[ind_keep,0], umap[ind_keep,1], alpha=.1, s=1)\n",
    "plt.xlabel('UMAP1')\n",
    "plt.ylabel('UMAP2')"
   ]
  },
  {
   "cell_type": "code",
   "execution_count": null,
   "metadata": {},
   "outputs": [],
   "source": [
    "print('Kept particle indices:')\n",
    "print(ind_keep)\n",
    "print('Number of kept particles:')\n",
    "print(len(ind_keep))\n",
    "print('Number of bad particles:')\n",
    "print(len(ind_bad))"
   ]
  }
 ],
 "metadata": {
  "kernelspec": {
   "display_name": "Python 3 (ipykernel)",
   "language": "python",
   "name": "python3"
  },
  "language_info": {
   "codemirror_mode": {
    "name": "ipython",
    "version": 3
   },
   "file_extension": ".py",
   "mimetype": "text/x-python",
   "name": "python",
   "nbconvert_exporter": "python",
   "pygments_lexer": "ipython3",
   "version": "3.7.11"
  }
 },
 "nbformat": 4,
 "nbformat_minor": 4
}
