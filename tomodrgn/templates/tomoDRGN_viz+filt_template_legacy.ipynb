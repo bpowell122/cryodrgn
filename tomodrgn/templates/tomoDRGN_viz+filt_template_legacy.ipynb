{
 "cells": [
  {
   "cell_type": "markdown",
   "metadata": {
    "pycharm": {
     "name": "#%% md\n"
    }
   },
   "source": [
    "# tomoDRGN interactive visualization and filtering\n",
    "\n",
    "### Filtering functionality\n",
    "This jupyter notebook provides multiple methods for filtering particles based on the latent space, including:\n",
    "* clustering of the latent space (k-means or Gaussian mixture model)\n",
    "* outlier detection (Z-score)\n",
    "* interactive selection with a lasso tool\n",
    "\n",
    "For each method, the selected particles are tracked in the variable, `ind_selected`. Once the selection has been finalized, the selected particles are saved as a `ind_keep.pkl` file at the end of this notebook. The `ind_keep.pkl` can be used with `tomodrgn train_vae` to train a new model on a subset of the images, or used with `tomodrgn filter_star` to filter the original input `.star` file for further processing wtih external tools, both via the `--ind ind_keep.pkl` optional argument.\n",
    "\n",
    "Note that indices in `ind_selected` and `ind_keep.pkl` are 0-indexed, are per-particle (not per tilt image), and are numbered sequentially by unique values present in the `_rlnGroupName` column of the original input `.star` file.\n",
    "\n",
    "### Visualization functionality\n",
    "Several static plots are generated in this notebook, including summaries of the input data (pose distribution) and of the training data (PCA, UMAP, and loss curve).\n",
    "Additional interactive plots are also created, with the primary intention of aiding users in uncovering correlations and interesting particle subsets for further analyses and structural hypothesis generation:\n",
    "* interactive 2D scatter plot per-particle\n",
    "    * axes and colormaps selectable from all columns from input star file + all training outputs (latent z, UMAP, and filtering tools described above) + optional tomogram XYZ positions from a separate star file + user-defined additions to `df_merged`\n",
    "* interactive 3D quiver plot per-particle in the source tomogram spatial context\n",
    "    * axes defined by particle XYZ coordinates in each source tomogram\n",
    "    * optional overlay of tomogram voxel data in voxel or z-slice view\n",
    "    * particle colormaps and sub-selection tools from all columns from input star file + all training outputs (latent z, UMAP, and filtering tools described above) + optional tomogram XYZ positions from a separate star file + user-defined additions to `df_merged`\n",
    "\n",
    "### Requirements\n",
    "For full functionality, the following files are required. Additionally, locations marked by `USER INPUT` (below) require the user to specify certain properties about these files:\n",
    "* tomoDRGN train_vae training input (`particles_imageseries.star`)\n",
    "* tomoDRGN train_vae training outputs (`z.pkl`, `config.pkl`, `run.log`)\n",
    "* tomoDRGN analyze outputs (`umap.pkl`, `labels.pkl`, `centers.txt`)\n",
    "* reconstructed tomograms, preferably denoised or deconvolved (`*.mrc`)\n",
    "* a star file from Warp or M's \"export subtomograms as volumes\" tomography task dialog (`particles_volumeseries.star`)"
   ]
  },
  {
   "cell_type": "code",
   "execution_count": null,
   "metadata": {
    "pycharm": {
     "name": "#%%\n"
    }
   },
   "outputs": [],
   "source": [
    "import pandas as pd\n",
    "import numpy as np\n",
    "import pickle\n",
    "import os\n",
    "import pprint\n",
    "\n",
    "from tomodrgn import analysis\n",
    "from tomodrgn import utils\n",
    "from tomodrgn import dataset\n",
    "from tomodrgn import ctf\n",
    "from tomodrgn import starfile\n",
    "from tomodrgn import config\n",
    "                \n",
    "import matplotlib.pyplot as plt\n",
    "import seaborn as sns\n",
    "import plotly.offline as py\n",
    "py.init_notebook_mode()"
   ]
  },
  {
   "cell_type": "code",
   "execution_count": null,
   "metadata": {
    "pycharm": {
     "name": "#%%\n"
    }
   },
   "outputs": [],
   "source": [
    "# Enable interactive widgets in jupyter notebook\n",
    "!jupyter nbextension enable --py widgetsnbextension"
   ]
  },
  {
   "cell_type": "markdown",
   "metadata": {
    "pycharm": {
     "name": "#%% md\n"
    }
   },
   "source": [
    "### Load training results"
   ]
  },
  {
   "cell_type": "code",
   "execution_count": null,
   "metadata": {
    "pycharm": {
     "name": "#%%\n"
    }
   },
   "outputs": [],
   "source": [
    "# Specify the workdir and the epoch number (0-based index) to analyze\n",
    "WORKDIR = '..' \n",
    "EPOCH = 39 # USER INPUT"
   ]
  },
  {
   "cell_type": "code",
   "execution_count": null,
   "metadata": {
    "pycharm": {
     "name": "#%%\n"
    }
   },
   "outputs": [],
   "source": [
    "print(os.path.abspath(WORKDIR))"
   ]
  },
  {
   "cell_type": "code",
   "execution_count": null,
   "metadata": {
    "pycharm": {
     "name": "#%%\n"
    }
   },
   "outputs": [],
   "source": [
    "# Load z\n",
    "with open(f'{WORKDIR}/z.{EPOCH}.train.pkl','rb') as f:\n",
    "    z = pickle.load(f)\n",
    "    z_logvar = pickle.load(f)"
   ]
  },
  {
   "cell_type": "code",
   "execution_count": null,
   "metadata": {
    "pycharm": {
     "name": "#%%\n"
    }
   },
   "outputs": [],
   "source": [
    "# Load UMAP\n",
    "umap = utils.load_pkl(f'{WORKDIR}/analyze.{EPOCH}/umap.pkl')\n",
    "# or run UMAP\n",
    "# umap = analysis.run_umap(z)"
   ]
  },
  {
   "cell_type": "code",
   "execution_count": null,
   "metadata": {
    "pycharm": {
     "name": "#%%\n"
    }
   },
   "outputs": [],
   "source": [
    "# Load kmeans\n",
    "K = 20  # or user defined if re-running kmeans\n",
    "kmeans_labels = utils.load_pkl(f'{WORKDIR}/analyze.{EPOCH}/kmeans{K}/labels.pkl')\n",
    "kmeans_centers = np.loadtxt(f'{WORKDIR}/analyze.{EPOCH}/kmeans{K}/centers.txt')\n",
    "\n",
    "# Or re-run kmeans with the desired number of classes\n",
    "#kmeans_labels, kmeans_centers = analysis.cluster_kmeans(z, 20)\n",
    "\n",
    "# Get index for on-data cluster center\n",
    "kmeans_centers, centers_ind = analysis.get_nearest_point(z, kmeans_centers)"
   ]
  },
  {
   "cell_type": "markdown",
   "metadata": {
    "pycharm": {
     "name": "#%% md\n"
    }
   },
   "source": [
    "### Load input dataset"
   ]
  },
  {
   "cell_type": "code",
   "execution_count": null,
   "metadata": {
    "pycharm": {
     "name": "#%%\n"
    },
    "scrolled": true
   },
   "outputs": [],
   "source": [
    "# Load configuration file\n",
    "cfg = utils.load_pkl(f'{WORKDIR}/config.pkl')\n",
    "config.print_config(cfg)"
   ]
  },
  {
   "cell_type": "code",
   "execution_count": null,
   "metadata": {
    "pycharm": {
     "name": "#%%\n"
    }
   },
   "outputs": [],
   "source": [
    "# Load particles starfile\n",
    "ptcls_star = starfile.TiltSeriesStarfile(cfg['starfile_args']['sourcefile_filtered'])"
   ]
  },
  {
   "cell_type": "code",
   "execution_count": null,
   "metadata": {
    "pycharm": {
     "name": "#%%\n"
    }
   },
   "outputs": [],
   "source": [
    "# Define useful variables\n",
    "ptcl_img_inds = ptcls_star.get_ptcl_img_indices()\n",
    "n_ptcls = len(ptcl_img_inds)\n",
    "n_imgs = len(np.hstack(ptcl_img_inds))\n",
    "\n",
    "# Create per-particle dataframe sampling only first image of each particle\n",
    "ptcls_star.filter(sort_ptcl_imgs='dose_ascending', use_first_ntilts=1)\n",
    "df_ptcls = ptcls_star.df.copy()"
   ]
  },
  {
   "cell_type": "code",
   "execution_count": null,
   "metadata": {
    "pycharm": {
     "name": "#%%\n"
    }
   },
   "outputs": [],
   "source": [
    "# Load poses (from pre-filtered dataframe)\n",
    "euler = df_ptcls[ptcls_star.headers_rot].to_numpy()\n",
    "\n",
    "if ptcls_star.headers_trans == [None, None]:\n",
    "    trans = np.zeros((n_imgs, 2))\n",
    "else:\n",
    "    trans = df_ptcls[ptcls_star.headers_trans].to_numpy()"
   ]
  },
  {
   "cell_type": "code",
   "execution_count": null,
   "metadata": {
    "pycharm": {
     "name": "#%%\n"
    }
   },
   "outputs": [],
   "source": [
    "# Load CTF (from pre-filtered dataframe)\n",
    "ctf_params = df_ptcls[ptcls_star.headers_ctf]\n",
    "box_size = cfg['lattice_args']['boxsize'] - 1\n",
    "box_size = np.full((ctf_params.shape[0],1), box_size)\n",
    "ctf_params = np.concatenate((box_size, ctf_params), 1)\n",
    "\n",
    "ctf.print_ctf_params(ctf_params[0])"
   ]
  },
  {
   "cell_type": "markdown",
   "metadata": {},
   "source": [
    "### Optionally load a RELION3.0 volumeseries star file from Warp/M (to get particle positions within tomograms)\n",
    "Note: Starfile must reference the same set of particles referenced by the starfile used for tomodrgn train_vae"
   ]
  },
  {
   "cell_type": "code",
   "execution_count": null,
   "metadata": {},
   "outputs": [],
   "source": [
    "### USER INPUT: metadata to find particle positions, merge with training df, and rescale to tomogram pixel size\n",
    "path_to_volseries_star = '/Users/barrettpowell/Documents/MIT/scripts/tomodrgn/testing/data/10076_both_32_sim_vols.star'             # absolute path to volume series star file\n",
    "tomo_id_column = '_rlnMicrographName'   # full string name of column containing unique values per tomogram in volseries star file"
   ]
  },
  {
   "cell_type": "code",
   "execution_count": null,
   "metadata": {
    "pycharm": {
     "name": "#%%\n"
    }
   },
   "outputs": [],
   "source": [
    "# load and filter star file\n",
    "volseries_star = starfile.GenericStarfile(path_to_volseries_star)\n",
    "data_block = volseries_star.identify_particles_data_block(column_substring=tomo_id_column)\n",
    "df_vols = volseries_star.blocks[data_block].copy()\n",
    "df_vols['_UnfilteredParticleInds'] = np.arange(len(df_vols))\n",
    "df_vols = df_vols.iloc[df_ptcls['_UnfilteredParticleInds']]  # internally map particle filtering applied at training time\n",
    "\n",
    "# Assign unique, sequential ID numbers to each tomogram for later visualization\n",
    "df_vols['_TomogramInds'] = df_vols.groupby(tomo_id_column, sort=False).ngroup()\n",
    "\n",
    "# filter out irrelevant columns\n",
    "cols_to_keep = []\n",
    "for col in df_vols.columns:\n",
    "    if any(col_substring in col for col_substring in ['Coordinate', 'Angle', tomo_id_column, '_UnfilteredParticleInds', 'TomogramInds']) and 'Defocus' not in col:\n",
    "        cols_to_keep.append(col)\n",
    "cols_to_drop = list(set(df_vols.columns) - set(cols_to_keep))\n",
    "df_vols.drop(cols_to_drop, axis=1, inplace=True)\n",
    "\n",
    "# view the result\n",
    "df_vols"
   ]
  },
  {
   "cell_type": "markdown",
   "metadata": {
    "pycharm": {
     "name": "#%% md\n"
    },
    "tags": []
   },
   "source": [
    "### Define helper functions"
   ]
  },
  {
   "cell_type": "code",
   "execution_count": null,
   "metadata": {
    "pycharm": {
     "name": "#%%\n"
    }
   },
   "outputs": [],
   "source": [
    "def list_paths_by_extension(basedir, extension):\n",
    "    file_list = [os.path.join(basedir, file) for file in os.listdir(basedir) if file.endswith(extension)]\n",
    "    return sorted(file_list)"
   ]
  },
  {
   "cell_type": "code",
   "execution_count": null,
   "metadata": {
    "pycharm": {
     "name": "#%%\n"
    }
   },
   "outputs": [],
   "source": [
    "def invert_selection(all_labels, ind_selected):\n",
    "    return np.array(sorted(set(np.arange(len(all_labels))) - set(ind_selected)))"
   ]
  },
  {
   "cell_type": "code",
   "execution_count": null,
   "metadata": {
    "pycharm": {
     "name": "#%%\n"
    }
   },
   "outputs": [],
   "source": [
    "def combine_selection(ind_sel1, ind_sel2, kind='union'):\n",
    "    assert kind in ('union','intersection')\n",
    "    return analysis.combine_ind(len(z), ind_sel1, ind_sel2, kind)"
   ]
  },
  {
   "cell_type": "code",
   "execution_count": null,
   "metadata": {
    "pycharm": {
     "name": "#%%\n"
    }
   },
   "outputs": [],
   "source": [
    "def select_clusters(labels, cluster_ids):\n",
    "    return analysis.get_ind_for_cluster(labels, cluster_ids)"
   ]
  },
  {
   "cell_type": "markdown",
   "metadata": {
    "pycharm": {
     "name": "#%% md\n"
    },
    "tags": []
   },
   "source": [
    "# Plot dataset / model properties"
   ]
  },
  {
   "cell_type": "markdown",
   "metadata": {
    "pycharm": {
     "name": "#%% md\n"
    },
    "tags": []
   },
   "source": [
    "### View pose distribution"
   ]
  },
  {
   "cell_type": "code",
   "execution_count": null,
   "metadata": {
    "pycharm": {
     "name": "#%%\n"
    }
   },
   "outputs": [],
   "source": [
    "# rotations\n",
    "analysis.plot_euler(euler[:,0], euler[:,1], euler[:,2])"
   ]
  },
  {
   "cell_type": "code",
   "execution_count": null,
   "metadata": {
    "pycharm": {
     "name": "#%%\n"
    }
   },
   "outputs": [],
   "source": [
    "# translations\n",
    "analysis.plot_translations(trans)"
   ]
  },
  {
   "cell_type": "markdown",
   "metadata": {
    "pycharm": {
     "name": "#%% md\n"
    },
    "tags": []
   },
   "source": [
    "### Learning curve"
   ]
  },
  {
   "cell_type": "code",
   "execution_count": null,
   "metadata": {
    "pycharm": {
     "name": "#%%\n"
    }
   },
   "outputs": [],
   "source": [
    "# losses\n",
    "analysis.plot_losses(f'{WORKDIR}/run.log')"
   ]
  },
  {
   "cell_type": "markdown",
   "metadata": {
    "pycharm": {
     "name": "#%% md\n"
    },
    "tags": []
   },
   "source": [
    "### PCA"
   ]
  },
  {
   "cell_type": "code",
   "execution_count": null,
   "metadata": {
    "pycharm": {
     "name": "#%%\n"
    }
   },
   "outputs": [],
   "source": [
    "pc, pca = analysis.run_pca(z)"
   ]
  },
  {
   "cell_type": "code",
   "execution_count": null,
   "metadata": {
    "pycharm": {
     "name": "#%%\n"
    }
   },
   "outputs": [],
   "source": [
    "g = sns.jointplot(x=pc[:,0], y=pc[:,1], alpha=.1, s=1)\n",
    "g.set_axis_labels('l-PC1', 'l-PC2')"
   ]
  },
  {
   "cell_type": "code",
   "execution_count": null,
   "metadata": {
    "pycharm": {
     "name": "#%%\n"
    }
   },
   "outputs": [],
   "source": [
    "g = sns.jointplot(x=pc[:,0], y=pc[:,1], kind='hex')\n",
    "g.set_axis_labels('l-PC1', 'l-PC2')"
   ]
  },
  {
   "cell_type": "code",
   "execution_count": null,
   "metadata": {
    "pycharm": {
     "name": "#%%\n"
    }
   },
   "outputs": [],
   "source": [
    "plt.bar(np.arange(z.shape[1])+1,pca.explained_variance_ratio_)\n",
    "plt.xticks(np.arange(z.shape[1])+1)\n",
    "plt.xlabel('l-PC')\n",
    "plt.ylabel('explained variance')"
   ]
  },
  {
   "cell_type": "markdown",
   "metadata": {
    "pycharm": {
     "name": "#%% md\n"
    },
    "tags": []
   },
   "source": [
    "### UMAP"
   ]
  },
  {
   "cell_type": "code",
   "execution_count": null,
   "metadata": {
    "pycharm": {
     "name": "#%%\n"
    }
   },
   "outputs": [],
   "source": [
    "g = sns.jointplot(x=umap[:,0], y=umap[:,1], alpha=.1, s=1)\n",
    "g.set_axis_labels('l-UMAP1', 'l-UMAP2')"
   ]
  },
  {
   "cell_type": "code",
   "execution_count": null,
   "metadata": {
    "pycharm": {
     "name": "#%%\n"
    }
   },
   "outputs": [],
   "source": [
    "g = sns.jointplot(x=umap[:,0], y=umap[:,1], kind='hex')\n",
    "g.set_axis_labels('l-UMAP1', 'l-UMAP2')"
   ]
  },
  {
   "cell_type": "markdown",
   "metadata": {
    "pycharm": {
     "name": "#%% md\n"
    },
    "tags": []
   },
   "source": [
    "# Filter by clustering\n",
    "\n",
    "Select particles based on k-means cluster labels or GMM cluster labels"
   ]
  },
  {
   "cell_type": "markdown",
   "metadata": {
    "pycharm": {
     "name": "#%% md\n"
    },
    "tags": []
   },
   "source": [
    "### View K-means clusters"
   ]
  },
  {
   "cell_type": "code",
   "execution_count": null,
   "metadata": {
    "pycharm": {
     "name": "#%%\n"
    }
   },
   "outputs": [],
   "source": [
    "# Optionally, re-run kmeans with the desired number of classes\n",
    "# random_state = np.random.randint(100000) # sample random integer\n",
    "# print(f'Random state: {random_state}')\n",
    "# K = 20  # USER INPUT: optionally change to desired cluster number\n",
    "# kmeans_labels, kmeans_centers = analysis.cluster_kmeans(z, K)"
   ]
  },
  {
   "cell_type": "code",
   "execution_count": null,
   "metadata": {
    "pycharm": {
     "name": "#%%\n"
    }
   },
   "outputs": [],
   "source": [
    "K = len(set(kmeans_labels))\n",
    "c = pca.transform(kmeans_centers) # transform to view with PCs\n",
    "analysis.plot_by_cluster(x=pc[:,0], \n",
    "                         y=pc[:,1], \n",
    "                         labels=kmeans_labels,\n",
    "                         labels_sel=K, \n",
    "                         centers_xy=c,\n",
    "                         annotate=True)\n",
    "plt.xlabel('l-PC1')\n",
    "plt.ylabel('l-PC2')"
   ]
  },
  {
   "cell_type": "code",
   "execution_count": null,
   "metadata": {
    "pycharm": {
     "name": "#%%\n"
    }
   },
   "outputs": [],
   "source": [
    "fig, ax = analysis.plot_by_cluster_subplot(x=pc[:,0], \n",
    "                                           y=pc[:,1], \n",
    "                                           labels=kmeans_labels,\n",
    "                                           labels_sel=K)"
   ]
  },
  {
   "cell_type": "code",
   "execution_count": null,
   "metadata": {
    "pycharm": {
     "name": "#%%\n"
    }
   },
   "outputs": [],
   "source": [
    "analysis.plot_by_cluster(x=umap[:,0], \n",
    "                         y=umap[:,1], \n",
    "                         labels=kmeans_labels, \n",
    "                         labels_sel=K,\n",
    "                         centers_ind=centers_ind,\n",
    "                         annotate=True)\n",
    "plt.xlabel('l-UMAP1')\n",
    "plt.ylabel('l-UMAP2')"
   ]
  },
  {
   "cell_type": "code",
   "execution_count": null,
   "metadata": {
    "pycharm": {
     "name": "#%%\n"
    }
   },
   "outputs": [],
   "source": [
    "fig, ax = analysis.plot_by_cluster_subplot(x=umap[:,0], \n",
    "                                           y=umap[:,1],\n",
    "                                           labels=kmeans_labels,\n",
    "                                           labels_sel=K)"
   ]
  },
  {
   "cell_type": "markdown",
   "metadata": {
    "pycharm": {
     "name": "#%% md\n"
    }
   },
   "source": [
    "**Select particles based on k-means clustering**"
   ]
  },
  {
   "cell_type": "code",
   "execution_count": null,
   "metadata": {
    "pycharm": {
     "name": "#%%\n"
    }
   },
   "outputs": [],
   "source": [
    "cluster_ids = [0,2] # USER INPUT: integer I.D. of clusters to select, 0 and 2 in this example\n",
    "ind_selected = select_clusters(kmeans_labels, cluster_ids)\n",
    "ind_selected_not = invert_selection(kmeans_labels, ind_selected)\n",
    "print('Selected indices:')\n",
    "print(ind_selected)\n",
    "print('Number of selected points:')\n",
    "print(len(ind_selected))\n",
    "print('Number of unselected points:')\n",
    "print(len(ind_selected_not))"
   ]
  },
  {
   "cell_type": "code",
   "execution_count": null,
   "metadata": {
    "pycharm": {
     "name": "#%%\n"
    }
   },
   "outputs": [],
   "source": [
    "# View PCA\n",
    "plt.scatter(pc[:,0], pc[:,1], alpha=.1, s=1)\n",
    "plt.scatter(pc[ind_selected,0], pc[ind_selected,1], alpha=.1, s=1)\n",
    "plt.xlabel('l-PC1 ({:.2f})'.format(pca.explained_variance_ratio_[0]))\n",
    "plt.ylabel('l-PC2 ({:.2f})'.format(pca.explained_variance_ratio_[1]))"
   ]
  },
  {
   "cell_type": "code",
   "execution_count": null,
   "metadata": {
    "pycharm": {
     "name": "#%%\n"
    }
   },
   "outputs": [],
   "source": [
    "# View umap\n",
    "plt.scatter(umap[:,0], umap[:,1], alpha=.1, s=1)\n",
    "plt.scatter(umap[ind_selected,0], umap[ind_selected,1], alpha=.1, s=1)\n",
    "plt.xlabel('l-UMAP1')\n",
    "plt.ylabel('l-UMAP2')"
   ]
  },
  {
   "cell_type": "markdown",
   "metadata": {
    "pycharm": {
     "name": "#%% md\n"
    },
    "tags": []
   },
   "source": [
    "### GMM-clustering"
   ]
  },
  {
   "cell_type": "code",
   "execution_count": null,
   "metadata": {
    "pycharm": {
     "name": "#%%\n"
    }
   },
   "outputs": [],
   "source": [
    "G = 3 # USER INPUT: or change to desired cluster number\n",
    "random_state = np.random.randint(100000) # sample random integer\n",
    "print(f'Random state: {random_state}')\n",
    "gmm_labels, gmm_centers = analysis.cluster_gmm(z, G, random_state=random_state)\n",
    "gmm_centers, gmm_centers_ind = analysis.get_nearest_point(z, gmm_centers)"
   ]
  },
  {
   "cell_type": "code",
   "execution_count": null,
   "metadata": {
    "pycharm": {
     "name": "#%%\n"
    }
   },
   "outputs": [],
   "source": [
    "analysis.plot_by_cluster(x=pc[:,0], \n",
    "                         y=pc[:,1], \n",
    "                         labels=gmm_labels,\n",
    "                         labels_sel=G, \n",
    "                         centers_ind=gmm_centers_ind,\n",
    "                         annotate=True)\n",
    "plt.xlabel('l-PC1')\n",
    "plt.ylabel('l-PC2')"
   ]
  },
  {
   "cell_type": "code",
   "execution_count": null,
   "metadata": {
    "pycharm": {
     "name": "#%%\n"
    }
   },
   "outputs": [],
   "source": [
    "fig, ax = analysis.plot_by_cluster_subplot(x=pc[:,0], \n",
    "                                           y=pc[:,1],\n",
    "                                           labels=gmm_labels,\n",
    "                                           labels_sel=G)"
   ]
  },
  {
   "cell_type": "code",
   "execution_count": null,
   "metadata": {
    "pycharm": {
     "name": "#%%\n"
    }
   },
   "outputs": [],
   "source": [
    "analysis.plot_by_cluster(x=umap[:,0], \n",
    "                         y=umap[:,1], \n",
    "                         labels=gmm_labels, \n",
    "                         labels_sel=G,\n",
    "                         centers_ind=gmm_centers_ind,\n",
    "                         annotate=True)\n",
    "plt.xlabel('l-UMAP1')\n",
    "plt.ylabel('l-UMAP2')"
   ]
  },
  {
   "cell_type": "code",
   "execution_count": null,
   "metadata": {
    "pycharm": {
     "name": "#%%\n"
    }
   },
   "outputs": [],
   "source": [
    "fig, ax = analysis.plot_by_cluster_subplot(x=umap[:,0], \n",
    "                                           y=umap[:,1], \n",
    "                                           labels=gmm_labels,\n",
    "                                           labels_sel=G)"
   ]
  },
  {
   "cell_type": "markdown",
   "metadata": {
    "pycharm": {
     "name": "#%% md\n"
    }
   },
   "source": [
    "**Select particles based on GMM-means clustering**"
   ]
  },
  {
   "cell_type": "code",
   "execution_count": null,
   "metadata": {
    "pycharm": {
     "name": "#%%\n"
    }
   },
   "outputs": [],
   "source": [
    "cluster_ids = [0,2] # USER INPUT: integer I.D. of clusters to select, 0 and 2 in this example\n",
    "ind_selected = select_clusters(gmm_labels, cluster_ids)\n",
    "ind_selected_not = invert_selection(gmm_labels, ind_selected)\n",
    "print('Selected indices:')\n",
    "print(ind_selected)\n",
    "print('Number of selected points:')\n",
    "print(len(ind_selected))\n",
    "print('Number of unselected points:')\n",
    "print(len(ind_selected_not))"
   ]
  },
  {
   "cell_type": "code",
   "execution_count": null,
   "metadata": {
    "pycharm": {
     "name": "#%%\n"
    }
   },
   "outputs": [],
   "source": [
    "# View PCA\n",
    "plt.scatter(pc[:,0], pc[:,1], alpha=.1, s=1)\n",
    "plt.scatter(pc[ind_selected,0], pc[ind_selected,1], alpha=.1, s=1)\n",
    "plt.xlabel('l-PC1 ({:.2f})'.format(pca.explained_variance_ratio_[0]))\n",
    "plt.ylabel('l-PC2 ({:.2f})'.format(pca.explained_variance_ratio_[1]))"
   ]
  },
  {
   "cell_type": "code",
   "execution_count": null,
   "metadata": {
    "pycharm": {
     "name": "#%%\n"
    }
   },
   "outputs": [],
   "source": [
    "# View umap\n",
    "plt.scatter(umap[:,0], umap[:,1], alpha=.1, s=1)\n",
    "plt.scatter(umap[ind_selected,0], umap[ind_selected,1], alpha=.1, s=1)\n",
    "plt.xlabel('l-UMAP1')\n",
    "plt.ylabel('l-UMAP2')"
   ]
  },
  {
   "cell_type": "markdown",
   "metadata": {
    "pycharm": {
     "name": "#%% md\n"
    },
    "tags": []
   },
   "source": [
    "# Filter by latent outliers"
   ]
  },
  {
   "cell_type": "code",
   "execution_count": null,
   "metadata": {
    "pycharm": {
     "name": "#%%\n"
    }
   },
   "outputs": [],
   "source": [
    "# Compute magnitude of latent encodings\n",
    "znorm = np.sum(z**2,axis=1)**.5"
   ]
  },
  {
   "cell_type": "code",
   "execution_count": null,
   "metadata": {
    "pycharm": {
     "name": "#%%\n"
    }
   },
   "outputs": [],
   "source": [
    "# Distribution of ||z||\n",
    "sns.histplot(znorm, kde=False)\n",
    "plt.xlabel('||z||')"
   ]
  },
  {
   "cell_type": "code",
   "execution_count": null,
   "metadata": {
    "pycharm": {
     "name": "#%%\n"
    }
   },
   "outputs": [],
   "source": [
    "# By default, identify particles with ||z|| 2 std deviations above mean\n",
    "zscore = 1.5\n",
    "thresh = znorm.mean()+zscore*znorm.std()\n",
    "print(f'Mean: {znorm.mean()}, Std: {znorm.std()}, Selected threshold: {thresh}')"
   ]
  },
  {
   "cell_type": "code",
   "execution_count": null,
   "metadata": {
    "pycharm": {
     "name": "#%%\n"
    }
   },
   "outputs": [],
   "source": [
    "ind_outliers = np.where(znorm >= thresh)[0]\n",
    "ind_outliers_not = invert_selection(znorm, ind_outliers)\n",
    "\n",
    "print('Selected indices:')\n",
    "print(ind_outliers)\n",
    "print('Number of selected points:')\n",
    "print(len(ind_outliers))\n",
    "print('Number of unselected points:')\n",
    "print(len(ind_outliers_not))"
   ]
  },
  {
   "cell_type": "code",
   "execution_count": null,
   "metadata": {
    "pycharm": {
     "name": "#%%\n"
    }
   },
   "outputs": [],
   "source": [
    "g = sns.histplot(znorm, kde=False)\n",
    "plt.axvline(x=thresh)\n",
    "plt.xlabel('||z||')\n",
    "plt.title('Magnitude of particle latent encodings')"
   ]
  },
  {
   "cell_type": "code",
   "execution_count": null,
   "metadata": {
    "pycharm": {
     "name": "#%%\n"
    }
   },
   "outputs": [],
   "source": [
    "# View PCA\n",
    "plt.scatter(pc[:,0], pc[:,1], alpha=.1, s=1)\n",
    "plt.scatter(pc[ind_outliers,0], pc[ind_outliers,1], alpha=.1, s=1)\n",
    "plt.xlabel('l-PC1 ({:.2f})'.format(pca.explained_variance_ratio_[0]))\n",
    "plt.ylabel('l-PC2 ({:.2f})'.format(pca.explained_variance_ratio_[1]))\n",
    "plt.title(f'Particles with ||z|| > {thresh}')"
   ]
  },
  {
   "cell_type": "code",
   "execution_count": null,
   "metadata": {
    "pycharm": {
     "name": "#%%\n"
    }
   },
   "outputs": [],
   "source": [
    "# View UMAP\n",
    "plt.scatter(umap[:,0], umap[:,1], alpha=.1, s=1)\n",
    "plt.scatter(umap[ind_outliers,0], umap[ind_outliers,1], alpha=.1, s=1)\n",
    "plt.xlabel('l-UMAP1')\n",
    "plt.ylabel('l-UMAP2')\n",
    "plt.title(f'Particles with ||z|| > {thresh}')"
   ]
  },
  {
   "cell_type": "code",
   "execution_count": null,
   "metadata": {
    "pycharm": {
     "name": "#%%\n"
    }
   },
   "outputs": [],
   "source": [
    "# Assign variables for viz/saving cells at the end of the notebook\n",
    "ind_selected = ind_outliers\n",
    "ind_selected_not = ind_outliers_not"
   ]
  },
  {
   "cell_type": "markdown",
   "metadata": {
    "pycharm": {
     "name": "#%% md\n"
    },
    "tags": []
   },
   "source": [
    "# Interactive visualization\n",
    "\n",
    "Interactive visualization of the latent encodings for the trained model. Each point represents a particle image of the dataset. The hover text includes the index of the image in the particle stack. "
   ]
  },
  {
   "cell_type": "code",
   "execution_count": null,
   "metadata": {
    "pycharm": {
     "name": "#%%\n"
    }
   },
   "outputs": [],
   "source": [
    "# Load training output data into a pandas dataframe on a per-particle basis\n",
    "df_train = analysis.load_dataframe(z=z,\n",
    "                                   pc=pc,\n",
    "                                   umap_emb=umap,\n",
    "                                   kmeans_labels=kmeans_labels,\n",
    "                                   gmm_labels=gmm_labels,\n",
    "                                   znorm=znorm)\n",
    "df_train['_UnfilteredParticleInds'] = df_ptcls['_UnfilteredParticleInds']"
   ]
  },
  {
   "cell_type": "code",
   "execution_count": null,
   "metadata": {
    "pycharm": {
     "name": "#%%\n"
    }
   },
   "outputs": [],
   "source": [
    "# Merge dataset and training dataframes\n",
    "df_merged = df_train.merge(df_ptcls, how='outer', on='_UnfilteredParticleInds')\n",
    "\n",
    "# Merge with volseries dataframe, if present\n",
    "if 'df_vols' in locals():\n",
    "    df_merged = df_merged.merge(df_vols, how='right', on='_UnfilteredParticleInds',  suffixes=('_img', ''))\n",
    "\n",
    "pd.set_option('display.max_columns', None)\n",
    "df_merged"
   ]
  },
  {
   "cell_type": "markdown",
   "metadata": {
    "pycharm": {
     "name": "#%% md\n"
    }
   },
   "source": [
    "### Interactive selection\n",
    "\n",
    "The next two cells contain helper code to select particles using an interactive lasso tool. \n",
    "\n",
    "1. In the first cell, select points with the lasso tool. The table widget is dynamically updated with the most recent selection's indices. \n",
    "2. Then once you've finalized your selection, **run the next cell** to save the particle indices for downstream analysis/viz.\n",
    "\n",
    "(Double click to clear selection)"
   ]
  },
  {
   "cell_type": "code",
   "execution_count": null,
   "metadata": {},
   "outputs": [],
   "source": [
    "widget = analysis.ipy_plot_interactive(df_merged.select_dtypes(include=np.number))\n",
    "widget"
   ]
  },
  {
   "cell_type": "code",
   "execution_count": null,
   "metadata": {},
   "outputs": [],
   "source": [
    "# get the indices currently displayed in the table as a numpy array\n",
    "ind_selected = np.asarray(widget.children[1].children[1].data[0].cells.values[0])\n",
    "ind_selected"
   ]
  },
  {
   "cell_type": "code",
   "execution_count": null,
   "metadata": {
    "pycharm": {
     "name": "#%%\n"
    }
   },
   "outputs": [],
   "source": [
    "# View PCA\n",
    "plt.scatter(pc[:,0], pc[:,1], alpha=.1, s=1)\n",
    "plt.scatter(pc[ind_selected,0], pc[ind_selected,1], alpha=.1, s=1)\n",
    "plt.xlabel('l-PC1 ({:.2f})'.format(pca.explained_variance_ratio_[0]))\n",
    "plt.ylabel('l-PC2 ({:.2f})'.format(pca.explained_variance_ratio_[1]))"
   ]
  },
  {
   "cell_type": "code",
   "execution_count": null,
   "metadata": {
    "pycharm": {
     "name": "#%%\n"
    }
   },
   "outputs": [],
   "source": [
    "# View umap\n",
    "plt.scatter(umap[:,0], umap[:,1], alpha=.1, s=1)\n",
    "plt.scatter(umap[ind_selected,0], umap[ind_selected,1], alpha=.1, s=1)\n",
    "plt.xlabel('l-UMAP1')\n",
    "plt.ylabel('l-UMAP2')"
   ]
  },
  {
   "cell_type": "markdown",
   "metadata": {
    "pycharm": {
     "name": "#%% md\n"
    },
    "tags": []
   },
   "source": [
    "# View particles"
   ]
  },
  {
   "cell_type": "markdown",
   "metadata": {
    "pycharm": {
     "name": "#%% md\n"
    },
    "tags": []
   },
   "source": [
    "## View tilt images from selected particles"
   ]
  },
  {
   "cell_type": "code",
   "execution_count": null,
   "metadata": {
    "pycharm": {
     "name": "#%%\n"
    }
   },
   "outputs": [],
   "source": [
    "# lazily load particle images and filter by ind.pkl, if applicable\n",
    "images = dataset.load_particles(cfg['starfile_args']['sourcefile_filtered'],\n",
    "                                lazy=True,\n",
    "                                datadir=cfg['dataset_args']['datadir'])"
   ]
  },
  {
   "cell_type": "code",
   "execution_count": null,
   "metadata": {
    "pycharm": {
     "name": "#%%\n"
    }
   },
   "outputs": [],
   "source": [
    "# choose 9 particles to view from ind_selected particles\n",
    "if len(ind_selected) > 9:\n",
    "    ind_subset9 = np.random.choice(ind_selected, 9, replace=False)\n",
    "else: \n",
    "    ind_subset9 = ind_selected\n",
    "print(ind_subset9)"
   ]
  },
  {
   "cell_type": "code",
   "execution_count": null,
   "metadata": {
    "pycharm": {
     "name": "#%%\n"
    }
   },
   "outputs": [],
   "source": [
    "# plot the first tilt image of each ind_subset9 particle\n",
    "ind_subset9_imgs = np.array([ptcl_img_inds[oneptcl_ind][0] for oneptcl_ind in ind_subset9])\n",
    "images_subset = np.asarray([images[ii].get() for ii in ind_subset9_imgs])\n",
    "_ = analysis.plot_projections(images=images_subset, labels=ind_subset9)"
   ]
  },
  {
   "cell_type": "code",
   "execution_count": null,
   "metadata": {},
   "outputs": [],
   "source": [
    "# plot where these ind_subset9 particles originate in latent UMAP space\n",
    "plt.scatter(umap[:,0], umap[:,1], alpha=.1, s=1)\n",
    "plt.scatter(umap[ind_subset9,0], umap[ind_subset9,1], color='k')\n",
    "plt.xlabel('l-UMAP1')\n",
    "plt.ylabel('l-UMAP2')"
   ]
  },
  {
   "cell_type": "markdown",
   "metadata": {
    "pycharm": {
     "name": "#%% md\n"
    }
   },
   "source": [
    "## View particle distributions in tomogram context\n",
    "Experimental feature to interactively explore particle distributions in 3D tomogram context. Benefits from optional superposition of tomogram data in z-slice or voxel view, and coloring or selecting particles by any numeric property in df_merged. Requires ipyvolume to be installed, and requires this notebook to be opened in Jupyter Notebook (not Jupyter Lab)."
   ]
  },
  {
   "cell_type": "code",
   "execution_count": null,
   "metadata": {
    "pycharm": {
     "name": "#%%\n"
    }
   },
   "outputs": [],
   "source": [
    "required_cols_for_tomogram_viz = ['_rlnCoordinateX',\n",
    "                                  '_rlnCoordinateY',\n",
    "                                  '_rlnCoordinateZ',\n",
    "                                  tomo_id_column,\n",
    "                                  '_UnfilteredParticleInds']\n",
    "assert np.all([col in df_merged.columns for col in required_cols_for_tomogram_viz])"
   ]
  },
  {
   "cell_type": "code",
   "execution_count": null,
   "metadata": {
    "pycharm": {
     "name": "#%%\n"
    },
    "scrolled": true
   },
   "outputs": [],
   "source": [
    "# Define path to all reconstructed tomograms used in this analysis\n",
    "# USER INPUT: path to folder containing (preferably deconvolved or denoised) tomograms\n",
    "path_to_tomograms = '../../../data/'"
   ]
  },
  {
   "cell_type": "code",
   "execution_count": null,
   "metadata": {
    "pycharm": {
     "name": "#%%\n"
    },
    "scrolled": true
   },
   "outputs": [],
   "source": [
    "# Define dictionary mapping tomogram file name on disk (as in `tomo_list` above, typically $TOMOGRAM.mrc) \n",
    "#     to the name in the input starfile under tomo_id_column header (typically $TOMOGRAM.tomostar)\n",
    "# USER INPUT: provide tomogram.mrc : tomogram.tomostar mappings\n",
    "tomo_star_mapping = {\n",
    "    'tomogram_001.mrc': 'both.tomostar',\n",
    "}"
   ]
  },
  {
   "cell_type": "code",
   "execution_count": null,
   "metadata": {
    "pycharm": {
     "name": "#%%\n"
    }
   },
   "outputs": [],
   "source": [
    "analysis.ipy_tomo_ptcl_viewer(path_to_tomograms=path_to_tomograms,\n",
    "                              tomo_star_mapping=tomo_star_mapping,\n",
    "                              tomo_id_column=tomo_id_column,\n",
    "                              df_particles=df_merged)"
   ]
  },
  {
   "cell_type": "code",
   "execution_count": null,
   "metadata": {},
   "outputs": [],
   "source": []
  },
  {
   "cell_type": "markdown",
   "metadata": {
    "pycharm": {
     "name": "#%% md\n"
    },
    "tags": []
   },
   "source": [
    "# Save selection indices\n",
    "\n",
    "Save the particle indices for the selected (`ind_selected`) and unselected particles (`ind_selected_not`) as a .pkl file for downstream processing in tomoDRGN or with other tools via `filter_star.py`."
   ]
  },
  {
   "cell_type": "code",
   "execution_count": null,
   "metadata": {
    "pycharm": {
     "name": "#%%\n"
    }
   },
   "outputs": [],
   "source": [
    "# Set selection as either the kept or bad particles (for file naming purposes)\n",
    "ind_keep = ind_selected # or ind_selected_not\n",
    "ind_bad = invert_selection(np.arange(len(df_merged)), ind_keep) # or ind_selected"
   ]
  },
  {
   "cell_type": "code",
   "execution_count": null,
   "metadata": {
    "pycharm": {
     "name": "#%%\n"
    }
   },
   "outputs": [],
   "source": [
    "# View PCA\n",
    "plt.scatter(pc[:,0], pc[:,1], alpha=.1, s=1)\n",
    "plt.scatter(pc[ind_keep,0], pc[ind_keep,1], alpha=.1, s=1)\n",
    "plt.xlabel('l-PC1 ({:.2f})'.format(pca.explained_variance_ratio_[0]))\n",
    "plt.ylabel('l-PC2 ({:.2f})'.format(pca.explained_variance_ratio_[1]))"
   ]
  },
  {
   "cell_type": "code",
   "execution_count": null,
   "metadata": {
    "pycharm": {
     "name": "#%%\n"
    }
   },
   "outputs": [],
   "source": [
    "# View UMAP\n",
    "plt.scatter(umap[:,0], umap[:,1], alpha=.1, s=1)\n",
    "plt.scatter(umap[ind_keep,0], umap[ind_keep,1], alpha=.1, s=1)\n",
    "plt.xlabel('l-UMAP1')\n",
    "plt.ylabel('l-UMAP2')"
   ]
  },
  {
   "cell_type": "code",
   "execution_count": null,
   "metadata": {
    "pycharm": {
     "name": "#%%\n"
    }
   },
   "outputs": [],
   "source": [
    "# reindex particle indices to match (potential) prior `--ind` usage when training model\n",
    "ind_keep = df_merged.iloc[ind_keep]['_UnfilteredParticleInds'].to_numpy(dtype=int)\n",
    "ind_bad = df_merged.iloc[ind_bad]['_UnfilteredParticleInds'].to_numpy(dtype=int)\n",
    "\n",
    "print('Kept particle indices:')\n",
    "print(ind_keep)\n",
    "print('Number of kept particles:')\n",
    "print(len(ind_keep))\n",
    "print('Number of bad particles:')\n",
    "print(len(ind_bad))"
   ]
  },
  {
   "cell_type": "code",
   "execution_count": null,
   "metadata": {
    "pycharm": {
     "name": "#%%\n"
    }
   },
   "outputs": [],
   "source": [
    "# Path to save index .pkl for selected particles\n",
    "SAVE_PATH = f'{WORKDIR}/ind_keep.{len(ind_keep)}_particles.pkl'\n",
    "utils.save_pkl(ind_keep, SAVE_PATH)\n",
    "print(f'Wrote {os.path.abspath(SAVE_PATH)}')"
   ]
  },
  {
   "cell_type": "code",
   "execution_count": null,
   "metadata": {
    "pycharm": {
     "name": "#%%\n"
    }
   },
   "outputs": [],
   "source": [
    "# Path to save index .pkl for non-selected particles\n",
    "SAVE_PATH = f'{WORKDIR}/ind_bad.{len(ind_bad)}_particles.pkl'\n",
    "utils.save_pkl(ind_keep, SAVE_PATH)\n",
    "print(f'Wrote {os.path.abspath(SAVE_PATH)}')"
   ]
  },
  {
   "cell_type": "markdown",
   "metadata": {
    "pycharm": {
     "name": "#%% md\n"
    }
   },
   "source": [
    "# Save selection latent coordinates\n",
    "Save latent coordinates for selected (ind_selected) particles as `z.selected.pkl`, optionally further separated by tomogram. Useful for volume generation of each `ind_selected` particle via `tomodrgn eval_vol`"
   ]
  },
  {
   "cell_type": "code",
   "execution_count": null,
   "metadata": {
    "pycharm": {
     "name": "#%%\n"
    }
   },
   "outputs": [],
   "source": [
    "# Set selection as ind_selected (subset) or all particles\n",
    "ind_keep = ind_selected # or all particles: df_merged.index"
   ]
  },
  {
   "cell_type": "code",
   "execution_count": null,
   "metadata": {
    "pycharm": {
     "name": "#%%\n"
    }
   },
   "outputs": [],
   "source": [
    "# List all tomograms specified in star files\n",
    "# assumes string format of `_rlnGroupName` column of `XXX_YYYYY` corresponding to tomogram XXX particle YYYYY\n",
    "tomo_ids = (df_merged[ptcls_star.header_ptcl_uid].str.split('_').str[0] + '_').unique()\n",
    "\n",
    "print(f'Unique tomogram identifiers in _rlnGroupName column: {tomo_ids}')"
   ]
  },
  {
   "cell_type": "code",
   "execution_count": null,
   "metadata": {
    "pycharm": {
     "name": "#%%\n"
    }
   },
   "outputs": [],
   "source": [
    "# save selected particles' latent coordinates\n",
    "# USER INPUT: True to write one z file per tomogram, False to write one z file for the whole dataset\n",
    "separate_zfiles_by_tomogram = False  \n",
    "\n",
    "z_cols = [f'z{i}' for i in range(z.shape[1])]\n",
    "if separate_zfiles_by_tomogram:\n",
    "    for tomo in tomo_ids:\n",
    "        SAVE_PATH = f'{WORKDIR}/z_keep.{len(ind_keep)}.{tomo}.pkl'\n",
    "        df_sub = df_merged[df_merged[ptcls_star.header_ptcl_uid].str.contains(tomo)]\n",
    "        ind_keep_sub = np.array([i for i in ind_keep if i in df_sub.index])\n",
    "        z_out = df_sub[z_cols].loc[ind_keep_sub]\n",
    "        utils.save_pkl(z_out.to_numpy(), SAVE_PATH)\n",
    "        print(f'Wrote {os.path.abspath(SAVE_PATH)}')\n",
    "\n",
    "else:\n",
    "    SAVE_PATH = f'{WORKDIR}/z_keep.{len(ind_keep)}.pkl'\n",
    "    z_out = df_merged[z_cols].iloc[ind_keep]\n",
    "    utils.save_pkl(z_out.to_numpy(), SAVE_PATH)\n",
    "    print(f'Wrote {os.path.abspath(SAVE_PATH)}')"
   ]
  },
  {
   "cell_type": "code",
   "execution_count": null,
   "metadata": {},
   "outputs": [],
   "source": []
  }
 ],
 "metadata": {
  "kernelspec": {
   "display_name": "Python 3 (ipykernel)",
   "language": "python",
   "name": "python3"
  },
  "language_info": {
   "codemirror_mode": {
    "name": "ipython",
    "version": 3
   },
   "file_extension": ".py",
   "mimetype": "text/x-python",
   "name": "python",
   "nbconvert_exporter": "python",
   "pygments_lexer": "ipython3",
   "version": "3.12.2"
  }
 },
 "nbformat": 4,
 "nbformat_minor": 4
}
