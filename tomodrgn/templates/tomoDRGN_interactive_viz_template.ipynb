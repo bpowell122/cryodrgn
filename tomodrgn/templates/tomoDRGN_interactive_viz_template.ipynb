{
 "cells": [
  {
   "cell_type": "markdown",
   "metadata": {
    "pycharm": {
     "name": "#%% md\n"
    }
   },
   "source": [
    "# tomoDRGN interactive visualization\n",
    "\n",
    "### Visualization functionality\n",
    "This notebook is streamlined to easily and interactively explore training output data in two forms, with the primary intention of aiding users in uncovering correlations and interesting particle subsets for further analyses and structural hypothesis generation:\n",
    "1. interactive 2D scatter plot per-particle, with axes and colormaps selectable from all columns from\n",
    "    * input star file\n",
    "    * all `tomodrgn analyze` outputs (latent, latent PCA, latent UMAP, latent kmeans clustering)\n",
    "    * tomogram XYZ positions from a separate volume series star file\n",
    "    * any `*.pkl` file found recursively within this notebook's directory which contains a numpy array with first axis shape matching the number of particles in the star file used for training the model being analyzed\n",
    "2. interactive 3D plot per-particle in the source tomogram spatial context\n",
    "    * axes defined by particle XYZ coordinates in each source tomogram\n",
    "    * optional overlay of tomogram voxel data with slice view\n",
    "    * particle colormaps and sub-selection tools from all options listed above for 2D scatter plot"
   ]
  },
  {
   "cell_type": "code",
   "execution_count": null,
   "metadata": {
    "pycharm": {
     "name": "#%%\n"
    }
   },
   "outputs": [],
   "source": [
    "import os\n",
    "import numpy as np\n",
    "import pandas as pd\n",
    "import matplotlib.pyplot as plt\n",
    "from tomodrgn import analysis\n",
    "from tomodrgn import utils\n",
    "                \n",
    "import plotly.offline as py\n",
    "py.init_notebook_mode()"
   ]
  },
  {
   "cell_type": "code",
   "execution_count": null,
   "metadata": {
    "pycharm": {
     "name": "#%%\n"
    }
   },
   "outputs": [],
   "source": [
    "# Enable interactive widgets in jupyter notebook\n",
    "!jupyter nbextension enable --py widgetsnbextension\n",
    "\n",
    "# ensure all columns in df can be viewed\n",
    "pd.set_option('display.max_columns', None)"
   ]
  },
  {
   "cell_type": "markdown",
   "metadata": {
    "pycharm": {
     "name": "#%% md\n"
    }
   },
   "source": [
    "### Load all data"
   ]
  },
  {
   "cell_type": "code",
   "execution_count": null,
   "metadata": {},
   "outputs": [],
   "source": [
    "# USER INPUT\n",
    "# absolute path to volume series star file, must reference the same set of particles referenced by the starfile used for tomodrgn train_vae\n",
    "volumeseries_star_path='tomodrgn/testing/data/10076_both_32_sim_vols.star'\n",
    "# full string name of column containing unique values per tomogram in volseries star file\n",
    "tomo_id_column='_rlnMicrographName'"
   ]
  },
  {
   "cell_type": "code",
   "execution_count": null,
   "metadata": {},
   "outputs": [],
   "source": "df_merged = analysis.recursive_load_dataframe(volumeseries_star_path=volumeseries_star_path, tomo_id_column=tomo_id_column)"
  },
  {
   "cell_type": "code",
   "execution_count": null,
   "metadata": {},
   "outputs": [],
   "source": [
    "df_merged"
   ]
  },
  {
   "cell_type": "markdown",
   "metadata": {
    "pycharm": {
     "name": "#%% md\n"
    },
    "tags": []
   },
   "source": [
    "### Interactive scatter plot\n",
    "\n",
    "Interactive visualization of the latent encodings for the trained model. Each point represents a particle image of the dataset. The hover text includes the index of the image in the particle stack. "
   ]
  },
  {
   "cell_type": "code",
   "execution_count": null,
   "metadata": {},
   "outputs": [],
   "source": [
    "widget = analysis.ipy_plot_interactive(df_merged.select_dtypes(include=np.number))\n",
    "widget"
   ]
  },
  {
   "cell_type": "code",
   "execution_count": null,
   "metadata": {},
   "outputs": [],
   "source": []
  },
  {
   "cell_type": "markdown",
   "metadata": {
    "pycharm": {
     "name": "#%% md\n"
    }
   },
   "source": [
    "## View particle distributions in tomogram context\n",
    "Interactively explore particle distributions in 3D tomogram context. Benefits from optional superposition of tomogram data in slice view, and coloring or selecting particles by any numeric property in df_merged."
   ]
  },
  {
   "cell_type": "code",
   "execution_count": null,
   "metadata": {
    "pycharm": {
     "name": "#%%\n"
    }
   },
   "outputs": [],
   "source": [
    "required_cols_for_tomogram_viz = ['_rlnCoordinateX',\n",
    "                                  '_rlnCoordinateY',\n",
    "                                  '_rlnCoordinateZ',\n",
    "                                  tomo_id_column,\n",
    "                                  '_UnfilteredParticleInds']\n",
    "assert np.all([col in df_merged.columns for col in required_cols_for_tomogram_viz])"
   ]
  },
  {
   "cell_type": "code",
   "execution_count": null,
   "metadata": {
    "pycharm": {
     "name": "#%%\n"
    },
    "scrolled": true
   },
   "outputs": [],
   "source": [
    "# USER INPUT\n",
    "\n",
    "# path to folder containing (preferably deconvolved or denoised) tomograms\n",
    "path_to_tomograms = '../../../data/'\n",
    "\n",
    "# provide tomogram.mrc : tomogram.tomostar mappings \n",
    "# (mapping tomogram file name on disk (as in `tomo_list` above, typically $TOMOGRAM.mrc to the name in the input starfile under tomo_id_column header (typically $TOMOGRAM.tomostar))\n",
    "tomo_star_mapping = {\n",
    "    'tomogram_001.mrc': 'both.tomostar',\n",
    "}"
   ]
  },
  {
   "cell_type": "code",
   "execution_count": null,
   "metadata": {
    "pycharm": {
     "name": "#%%\n"
    }
   },
   "outputs": [],
   "source": [
    "analysis.ipy_tomo_ptcl_viewer(path_to_tomograms=path_to_tomograms,\n",
    "                              tomo_star_mapping=tomo_star_mapping,\n",
    "                              tomo_id_column=tomo_id_column,\n",
    "                              df_particles=df_merged)"
   ]
  },
  {
   "cell_type": "code",
   "execution_count": null,
   "metadata": {},
   "outputs": [],
   "source": []
  }
 ],
 "metadata": {
  "kernelspec": {
   "display_name": "Python 3 (ipykernel)",
   "language": "python",
   "name": "python3"
  },
  "language_info": {
   "codemirror_mode": {
    "name": "ipython",
    "version": 3
   },
   "file_extension": ".py",
   "mimetype": "text/x-python",
   "name": "python",
   "nbconvert_exporter": "python",
   "pygments_lexer": "ipython3",
   "version": "3.12.2"
  }
 },
 "nbformat": 4,
 "nbformat_minor": 4
}
